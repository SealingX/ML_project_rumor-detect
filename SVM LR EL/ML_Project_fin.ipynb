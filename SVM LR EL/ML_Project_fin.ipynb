{
 "cells": [
  {
   "cell_type": "code",
   "execution_count": 1,
   "id": "83ea8aaf",
   "metadata": {},
   "outputs": [],
   "source": [
    "import zipfile\n",
    "import os\n",
    "import random\n",
    "from PIL import Image\n",
    "from PIL import ImageEnhance\n",
    "import json\n",
    "import pandas as pd\n",
    "import numpy as np\n",
    "from sklearn import metrics\n",
    "\n",
    "src_path=\"F:/UIC/Year 3(Right)/Machine Learning/Project/Rumor_Dataset.zip\"\n",
    "target_path=\"F:/UIC/Year 3(Right)/Machine Learning/Project/Chinese_Rumor_Dataset-master\"\n",
    "if(not os.path.isdir(target_path)):\n",
    "    z = zipfile.ZipFile(src_path, 'r')\n",
    "    z.extractall(path=target_path)\n",
    "    z.close()"
   ]
  },
  {
   "cell_type": "code",
   "execution_count": 2,
   "id": "9d011d90",
   "metadata": {},
   "outputs": [],
   "source": [
    "rumor_class_dirs = os.listdir(target_path+\"/CED_Dataset/rumor-repost/\")\n",
    "non_rumor_class_dirs = os.listdir(target_path+\"/CED_Dataset/non-rumor-repost/\")\n",
    "original_microblog = target_path+\"/CED_Dataset/original-microblog/\"\n",
    "\n",
    "data_list_path=\"F:/UIC/Year 3(Right)/Machine Learning/Project/\"\n",
    "all_data_path=data_list_path + \"all_data.txt\"\n",
    "\n",
    "train_list_path = data_list_path+'train_list.txt'\n",
    "eval_list_path = data_list_path+'eval_list.txt'"
   ]
  },
  {
   "cell_type": "code",
   "execution_count": 3,
   "id": "34e1204c",
   "metadata": {},
   "outputs": [],
   "source": [
    "train_data_origin = open(train_list_path, encoding='utf-8')\n",
    "train_data_mid = pd.DataFrame(train_data_origin)\n",
    "#train_data_mid"
   ]
  },
  {
   "cell_type": "code",
   "execution_count": 4,
   "id": "0361b1bf",
   "metadata": {},
   "outputs": [],
   "source": [
    "#use max len:\n",
    "final_list = []\n",
    "lenlist = []\n",
    "\n",
    "#find max length\n",
    "for i in range(train_data_mid.shape[0]):\n",
    "    te2 = train_data_mid[0][i]\n",
    "    md1 = te2.replace(\"\\t\", \",\").replace(\"\\n\", \"\")\n",
    "    te3 = list(map(int, md1.split(\",\")))\n",
    "    te4 = np.array(te3).T\n",
    "    lenlist.append(len(te4))\n",
    "max_len = max(lenlist) - 1\n",
    "\n",
    "for i in range(train_data_mid.shape[0]):\n",
    "    te2 = train_data_mid[0][i]\n",
    "    md1 = te2.replace(\"\\t\", \",\").replace(\"\\n\", \"\")\n",
    "    te3 = list(map(int, md1.split(\",\")))\n",
    "    te4 = np.array(te3).T\n",
    "    \n",
    "    #get x\n",
    "    fin_list = te4[0:-1]\n",
    "    if len(fin_list) <= max_len:\n",
    "        for j in range(max_len - len(te4[0:-1])):\n",
    "            fin_list = np.append(fin_list, 0)  # add 0 to list\n",
    "            \n",
    "    #get y\n",
    "    fin_list = np.append(fin_list, te4[-1])\n",
    "    \n",
    "    \n",
    "    final_list.append(fin_list)\n",
    "\n",
    "train_data = pd.DataFrame(final_list)\n",
    "train_X = train_data.iloc[:,0:-1]\n",
    "train_y = train_data.iloc[:,-1]"
   ]
  },
  {
   "cell_type": "code",
   "execution_count": 5,
   "id": "0e7adb7a",
   "metadata": {},
   "outputs": [],
   "source": [
    "#use max len:\n",
    "eval_data_origin = open(eval_list_path, encoding='utf-8')\n",
    "eval_data_mid = pd.DataFrame(eval_data_origin)\n",
    "final_list = []\n",
    "\n",
    "new_max_len = 226\n",
    "for i in range(eval_data_mid.shape[0]):\n",
    "    te2 = eval_data_mid[0][i]\n",
    "    md1 = te2.replace(\"\\t\", \",\").replace(\"\\n\", \"\")\n",
    "    te3 = list(map(int, md1.split(\",\")))\n",
    "    te4 = np.array(te3).T\n",
    "    \n",
    "    #get x\n",
    "    fin_list = te4[0:-1]\n",
    "    if len(fin_list) <= new_max_len:\n",
    "        for j in range(new_max_len - len(te4[0:-1])):\n",
    "            fin_list = np.append(fin_list, 0)  # add 0 to list\n",
    "            \n",
    "    #get y\n",
    "    fin_list = np.append(fin_list, te4[-1])\n",
    "    \n",
    "    \n",
    "    final_list.append(fin_list)\n",
    "\n",
    "eval_data = pd.DataFrame(final_list)\n",
    "eval_X = eval_data.iloc[:,0:-1]\n",
    "eval_y = eval_data.iloc[:,-1]"
   ]
  },
  {
   "cell_type": "code",
   "execution_count": 6,
   "id": "51d7b85c",
   "metadata": {},
   "outputs": [],
   "source": [
    "#use SVM:\n",
    "import seaborn as sb\n",
    "from sklearn import svm\n",
    "from scipy.io import loadmat"
   ]
  },
  {
   "cell_type": "code",
   "execution_count": 7,
   "id": "c6a8f653",
   "metadata": {},
   "outputs": [],
   "source": [
    "fin_svc = svm.SVC(C=100, cache_size=200, class_weight=None, coef0=0.0,\n",
    "                 decision_function_shape='ovr', degree=3, gamma=100, kernel='rbf',\n",
    "                 max_iter=-1, probability=True, random_state=None, shrinking=True,\n",
    "                 tol=0.001, verbose=False)"
   ]
  },
  {
   "cell_type": "code",
   "execution_count": 8,
   "id": "8bf39fa3",
   "metadata": {},
   "outputs": [
    {
     "data": {
      "text/plain": [
       "0.5801886792452831"
      ]
     },
     "execution_count": 8,
     "metadata": {},
     "output_type": "execute_result"
    }
   ],
   "source": [
    "fin_svc.fit(train_X, train_y)\n",
    "fin_svc.score(eval_X, eval_y)"
   ]
  },
  {
   "cell_type": "code",
   "execution_count": 9,
   "id": "e5564949",
   "metadata": {
    "scrolled": false
   },
   "outputs": [
    {
     "name": "stdout",
     "output_type": "stream",
     "text": [
      "SVM:\n",
      "Accuracy Score is: 0.5801886792452831\n",
      "Precision Score is: 0.5658536585365853\n",
      "Recall Score is: 1.0\n",
      "F1 Score is: 0.7227414330218067\n",
      "\n",
      "Confusion_matrix is:\n",
      " [[ 14 178]\n",
      " [  0 232]]\n"
     ]
    }
   ],
   "source": [
    "resu_SVM = fin_svc.predict(eval_X)\n",
    "def performance(y_ture,y_pred):\n",
    "    print(\"Accuracy Score is:\",metrics.accuracy_score(y_ture, y_pred))\n",
    "    print(\"Precision Score is:\", metrics.precision_score(y_ture, y_pred))\n",
    "    print(\"Recall Score is:\",metrics.recall_score(y_ture, y_pred))\n",
    "    print(\"F1 Score is:\",metrics.f1_score(y_ture, y_pred))\n",
    "    print(\"\\nConfusion_matrix is:\\n\",metrics.confusion_matrix(y_ture, y_pred))\n",
    "\n",
    "print(\"SVM:\")\n",
    "performance(eval_y, resu_SVM)"
   ]
  },
  {
   "cell_type": "code",
   "execution_count": 10,
   "id": "90d02845",
   "metadata": {},
   "outputs": [
    {
     "name": "stdout",
     "output_type": "stream",
     "text": [
      "precision = 0.5658536585365853\n",
      "recall = 1.0\n"
     ]
    }
   ],
   "source": [
    "#SVM: accuracy and precision\n",
    "SVM_comb = pd.DataFrame([resu_SVM, eval_y]).T\n",
    "TP_S = 0\n",
    "FN_S = 0\n",
    "TN_S = 0\n",
    "FP_S = 0\n",
    "\n",
    "for i in range(SVM_comb.shape[0]):\n",
    "    if list(SVM_comb.iloc[i, :]) == [1, 1]:\n",
    "        TP_S += 1\n",
    "    if list(SVM_comb.iloc[i, :]) == [0, 0]:\n",
    "        TN_S += 1\n",
    "    if list(SVM_comb.iloc[i, :]) == [1, 0]:\n",
    "        FP_S += 1\n",
    "    if list(SVM_comb.iloc[i, :]) == [0, 1]:\n",
    "        FN_S += 1\n",
    "\n",
    "print(f\"precision = {TP_S / (TP_S + FP_S)}\")\n",
    "print(f\"recall = {TP_S / (TP_S + FN_S)}\")"
   ]
  },
  {
   "cell_type": "code",
   "execution_count": 11,
   "id": "c8bd8385",
   "metadata": {},
   "outputs": [
    {
     "name": "stderr",
     "output_type": "stream",
     "text": [
      "C:\\Users\\UIC\\AppData\\Local\\Temp/ipykernel_3772/72375366.py:14: RuntimeWarning: divide by zero encountered in log\n",
      "  totalSum += -y[i] * np.log(1 / (1 + np.exp(-sum(xi * theta)))) - (1 - y[i]) * np.log(1 - (1 / (1 + np.exp(-sum(xi * theta)))))\n",
      "C:\\Users\\UIC\\AppData\\Local\\Temp/ipykernel_3772/72375366.py:14: RuntimeWarning: invalid value encountered in multiply\n",
      "  totalSum += -y[i] * np.log(1 / (1 + np.exp(-sum(xi * theta)))) - (1 - y[i]) * np.log(1 - (1 / (1 + np.exp(-sum(xi * theta)))))\n"
     ]
    }
   ],
   "source": [
    "#use Logistic Regression\n",
    "import scipy.optimize as opt\n",
    "\n",
    "def sigmoid(z):\n",
    "    y = 1 / (1 + np.exp(-z))\n",
    "    return y\n",
    "\n",
    "def cost(theta, X, y):\n",
    "    ''' cost function for you to minimize'''\n",
    "    m = X.shape[0]\n",
    "    totalSum = 0\n",
    "    for i in range(m):\n",
    "        xi = X[i]\n",
    "        totalSum += -y[i] * np.log(1 / (1 + np.exp(-sum(xi * theta)))) - (1 - y[i]) * np.log(1 - (1 / (1 + np.exp(-sum(xi * theta)))))\n",
    "    fin = 1 / m * float(totalSum)  # J(theta)\n",
    "    return fin\n",
    "\n",
    "def regularized_cost(theta, X, y, l=1):\n",
    "\n",
    "    #     '''you don't penalize theta_0'''\n",
    "    theta_j1_to_n = theta[1:]\n",
    "    m = X.shape[0]\n",
    "    sumThe = 0\n",
    "    for i in range(len(theta_j1_to_n)):\n",
    "        sumThe += theta_j1_to_n[i] * theta_j1_to_n[i]\n",
    "    #print(cost(theta, X, y))\n",
    "    regularized_term = l / (2 * m) * sumThe# your code here\n",
    "    #print(regularized_term)\n",
    "    \n",
    "    return cost(theta, X, y) + regularized_term\n",
    "\n",
    "def gradient(theta, X, y):\n",
    "    return np.dot(np.transpose(X), (sigmoid(np.dot(X, theta)) - y)) / len(X)\n",
    "\n",
    "def regularized_gradient(theta, X, y, reg_lambda=1):\n",
    "#     '''still, leave theta_0 alone'''\n",
    "    #print(X)\n",
    "    res = (reg_lambda/len(X)) * theta  # λ / m * θj\n",
    "    res[0] = 0  # theta0 = 0\n",
    "    return gradient(theta, X, y) + res\n",
    "\n",
    "theta = np.zeros(train_X.shape[1])\n",
    "nx = np.array(train_X)\n",
    "ny = np.array(train_y)\n",
    "#result = opt.minimize(fun = cost, x0 = theta, args = (nx, ny), method = 'TNC', jac = gradient)\n",
    "result = opt.minimize(fun=regularized_cost, x0=theta, args=(nx, ny), method='TNC', jac=regularized_gradient)\n",
    "\n",
    "\n",
    "def predict(theta, X):\n",
    "    probability = 1 / (1 + np.exp(np.dot(-X, theta)))  # h_theta(x) # your code goes here\n",
    "    return np.array((probability >= 0.5).astype(int))"
   ]
  },
  {
   "cell_type": "code",
   "execution_count": 12,
   "id": "1f751997",
   "metadata": {},
   "outputs": [],
   "source": [
    "final_theta = result.x\n",
    "#print(final_theta)\n",
    "y_pred = predict(final_theta, np.array(eval_X))\n",
    "#print(y_pred)"
   ]
  },
  {
   "cell_type": "code",
   "execution_count": 13,
   "id": "92a270f7",
   "metadata": {},
   "outputs": [
    {
     "name": "stdout",
     "output_type": "stream",
     "text": [
      "0.5542452830188679\n"
     ]
    }
   ],
   "source": [
    "corr_num = 0\n",
    "for i in range(len(y_pred)):\n",
    "    if y_pred[i] == eval_y[i]:\n",
    "        corr_num += 1\n",
    "print(corr_num / len(y_pred))"
   ]
  },
  {
   "cell_type": "code",
   "execution_count": 14,
   "id": "d5f852cb",
   "metadata": {},
   "outputs": [
    {
     "name": "stdout",
     "output_type": "stream",
     "text": [
      "Logistic Regression:\n",
      "Accuracy Score is: 0.5542452830188679\n",
      "Precision Score is: 0.5811320754716981\n",
      "Recall Score is: 0.6637931034482759\n",
      "F1 Score is: 0.619718309859155\n",
      "\n",
      "Confusion_matrix is:\n",
      " [[ 81 111]\n",
      " [ 78 154]]\n"
     ]
    }
   ],
   "source": [
    "print(\"Logistic Regression:\")\n",
    "performance(eval_y, y_pred)"
   ]
  },
  {
   "cell_type": "code",
   "execution_count": 15,
   "id": "eea87ae5",
   "metadata": {},
   "outputs": [
    {
     "name": "stdout",
     "output_type": "stream",
     "text": [
      "precision = 0.5811320754716981\n",
      "recall = 0.6637931034482759\n"
     ]
    }
   ],
   "source": [
    "###LG: accuracy and precision\n",
    "LG_comb = pd.DataFrame([y_pred, eval_y]).T\n",
    "TP_L = 0\n",
    "FN_L = 0\n",
    "TN_L = 0\n",
    "FP_L = 0\n",
    "\n",
    "for i in range(LG_comb.shape[0]):\n",
    "    if list(LG_comb.iloc[i, :]) == [1, 1]:\n",
    "        TP_L += 1\n",
    "    if list(LG_comb.iloc[i, :]) == [0, 0]:\n",
    "        TN_L += 1\n",
    "    if list(LG_comb.iloc[i, :]) == [1, 0]:\n",
    "        FP_L += 1\n",
    "    if list(LG_comb.iloc[i, :]) == [0, 1]:\n",
    "        FN_L += 1\n",
    "\n",
    "print(f\"precision = {TP_L / (TP_L + FP_L)}\")\n",
    "print(f\"recall = {TP_L / (TP_L + FN_L)}\")\n",
    "#TP_L + FN_L + TN_L + FP_L == LG_comb.shape[0]"
   ]
  },
  {
   "cell_type": "code",
   "execution_count": 16,
   "id": "74af7940",
   "metadata": {},
   "outputs": [
    {
     "name": "stdout",
     "output_type": "stream",
     "text": [
      "0\n",
      "1\n",
      "2\n",
      "3\n",
      "4\n",
      "5\n",
      "6\n",
      "7\n",
      "8\n",
      "9\n",
      "10\n",
      "11\n",
      "12\n",
      "13\n",
      "14\n",
      "15\n",
      "16\n",
      "17\n",
      "18\n",
      "19\n",
      "20\n",
      "21\n",
      "22\n",
      "23\n",
      "24\n",
      "25\n",
      "26\n",
      "27\n",
      "28\n",
      "29\n",
      "30\n",
      "31\n",
      "32\n",
      "33\n",
      "34\n",
      "35\n",
      "36\n",
      "37\n",
      "38\n",
      "39\n",
      "40\n",
      "41\n",
      "42\n",
      "43\n",
      "44\n",
      "45\n",
      "46\n",
      "47\n",
      "48\n",
      "49\n",
      "50\n",
      "51\n",
      "52\n",
      "53\n",
      "54\n",
      "55\n",
      "56\n",
      "57\n",
      "58\n",
      "59\n",
      "60\n",
      "61\n",
      "62\n",
      "63\n",
      "64\n",
      "65\n",
      "66\n",
      "67\n",
      "68\n",
      "69\n",
      "70\n",
      "71\n",
      "72\n",
      "73\n",
      "74\n",
      "75\n",
      "76\n",
      "77\n",
      "78\n",
      "79\n",
      "80\n",
      "81\n",
      "82\n",
      "83\n",
      "84\n",
      "85\n",
      "86\n",
      "87\n",
      "88\n",
      "89\n",
      "90\n",
      "91\n",
      "92\n",
      "93\n",
      "94\n",
      "95\n",
      "96\n",
      "97\n",
      "98\n",
      "99\n",
      "100\n"
     ]
    }
   ],
   "source": [
    "#EL\n",
    "pred_list = []\n",
    "\n",
    "\n",
    "\n",
    "for num in range(101):\n",
    "    print(num)\n",
    "    #bootstrap\n",
    "    ind = np.random.choice(train_X.shape[0], size=train_X.shape[0], replace=True)\n",
    "    #print(ind)\n",
    "    new_train_X = train_X.iloc[ind]\n",
    "    new_train_y = train_y.iloc[ind]\n",
    "    \n",
    "    #print(new_train_X)\n",
    "    \n",
    "    #train\n",
    "    fin_svc = svm.SVC(C=100, cache_size=200, class_weight=None, coef0=0.0,\n",
    "                 decision_function_shape='ovr', degree=3, gamma=100, kernel='rbf',\n",
    "                 max_iter=-1, probability=True, random_state=None, shrinking=True,\n",
    "                 tol=0.001, verbose=False)\n",
    "    fin_svc.fit(new_train_X, new_train_y)\n",
    "    \n",
    "    pred_list.append(np.array(fin_svc.predict(eval_X)).T)\n",
    "    #print(np.array(fin_svc.predict(eval_X)))"
   ]
  },
  {
   "cell_type": "code",
   "execution_count": 17,
   "id": "e8d14ff0",
   "metadata": {},
   "outputs": [
    {
     "data": {
      "text/plain": [
       "'teni'"
      ]
     },
     "execution_count": 17,
     "metadata": {},
     "output_type": "execute_result"
    }
   ],
   "source": [
    "ten = 0\n",
    "\"ten\" + \"i\""
   ]
  },
  {
   "cell_type": "code",
   "execution_count": 18,
   "id": "6b455457",
   "metadata": {},
   "outputs": [
    {
     "data": {
      "text/plain": [
       "0.5801886792452831"
      ]
     },
     "execution_count": 18,
     "metadata": {},
     "output_type": "execute_result"
    }
   ],
   "source": [
    "pred_resu = pd.DataFrame(pred_list).T\n",
    "final_pred = []\n",
    "for i in range(pred_resu.shape[0]):\n",
    "    if sum(pred_resu.iloc[i]) > 50:\n",
    "        final_pred.append(1)\n",
    "    else:\n",
    "        final_pred.append(0)\n",
    "\n",
    "sum(final_pred == eval_y) / pred_resu.shape[0]"
   ]
  },
  {
   "cell_type": "code",
   "execution_count": 19,
   "id": "17621b89",
   "metadata": {},
   "outputs": [
    {
     "name": "stdout",
     "output_type": "stream",
     "text": [
      "EL:\n",
      "Accuracy Score is: 0.5801886792452831\n",
      "Precision Score is: 0.5658536585365853\n",
      "Recall Score is: 1.0\n",
      "F1 Score is: 0.7227414330218067\n",
      "\n",
      "Confusion_matrix is:\n",
      " [[ 14 178]\n",
      " [  0 232]]\n"
     ]
    }
   ],
   "source": [
    "print(\"EL:\")\n",
    "performance(eval_y, final_pred)"
   ]
  },
  {
   "cell_type": "code",
   "execution_count": 37,
   "id": "54653e28",
   "metadata": {},
   "outputs": [
    {
     "data": {
      "text/plain": [
       "0.5471698113207547"
      ]
     },
     "execution_count": 37,
     "metadata": {},
     "output_type": "execute_result"
    }
   ],
   "source": [
    "###EL: accuracy and precision\n",
    "EL_comb = pd.DataFrame([final_pred, eval_y]).T\n",
    "TP_E = 0\n",
    "FN_E = 0\n",
    "TN_E = 0\n",
    "FP_E = 0\n",
    "\n",
    "for i in range(EL_comb.shape[0]):\n",
    "    if list(EL_comb.iloc[i, :]) == [1, 1]:\n",
    "        TP_E += 1\n",
    "    if list(EL_comb.iloc[i, :]) == [0, 0]:\n",
    "        TN_E += 1\n",
    "    if list(EL_comb.iloc[i, :]) == [1, 0]:\n",
    "        FP_E += 1\n",
    "    if list(EL_comb.iloc[i, :]) == [0, 1]:\n",
    "        FN_E += 1\n",
    "FN_E / EL_comb.shape[0]\n",
    "#print(f\"precision = {TP_E / (TP_E+ FP_E)}\")\n",
    "#print(f\"recall = {TP_E / (TP_E + FN_E)}\")"
   ]
  },
  {
   "cell_type": "code",
   "execution_count": null,
   "id": "1fbb62b0",
   "metadata": {},
   "outputs": [],
   "source": []
  },
  {
   "cell_type": "code",
   "execution_count": null,
   "id": "75fa7817",
   "metadata": {},
   "outputs": [],
   "source": []
  },
  {
   "cell_type": "code",
   "execution_count": null,
   "id": "8fefa977",
   "metadata": {},
   "outputs": [],
   "source": []
  },
  {
   "cell_type": "code",
   "execution_count": null,
   "id": "73ac3da5",
   "metadata": {},
   "outputs": [],
   "source": []
  },
  {
   "cell_type": "code",
   "execution_count": 36,
   "id": "8caf85f6",
   "metadata": {},
   "outputs": [
    {
     "name": "stdout",
     "output_type": "stream",
     "text": [
      "0\n"
     ]
    },
    {
     "name": "stderr",
     "output_type": "stream",
     "text": [
      "C:\\Users\\UIC\\AppData\\Local\\Temp/ipykernel_12948/3105511271.py:16: RuntimeWarning: divide by zero encountered in log\n",
      "  totalSum += -y[i] * np.log(1 / (1 + np.exp(-sum(xi * theta)))) - (1 - y[i]) * np.log(1 - (1 / (1 + np.exp(-sum(xi * theta)))))\n",
      "C:\\Users\\UIC\\AppData\\Local\\Temp/ipykernel_12948/3105511271.py:16: RuntimeWarning: invalid value encountered in multiply\n",
      "  totalSum += -y[i] * np.log(1 / (1 + np.exp(-sum(xi * theta)))) - (1 - y[i]) * np.log(1 - (1 / (1 + np.exp(-sum(xi * theta)))))\n"
     ]
    },
    {
     "name": "stdout",
     "output_type": "stream",
     "text": [
      "1\n",
      "2\n",
      "3\n",
      "4\n",
      "5\n",
      "6\n",
      "7\n",
      "8\n",
      "9\n",
      "10\n",
      "11\n",
      "12\n",
      "13\n",
      "14\n",
      "15\n",
      "16\n",
      "17\n",
      "18\n",
      "19\n",
      "20\n",
      "21\n",
      "22\n",
      "23\n",
      "24\n",
      "25\n",
      "26\n",
      "27\n",
      "28\n",
      "29\n",
      "30\n",
      "31\n",
      "32\n",
      "33\n",
      "34\n",
      "35\n",
      "36\n",
      "37\n",
      "38\n",
      "39\n",
      "40\n",
      "41\n",
      "42\n",
      "43\n",
      "44\n",
      "45\n",
      "46\n",
      "47\n",
      "48\n",
      "49\n",
      "50\n",
      "51\n",
      "52\n",
      "53\n",
      "54\n",
      "55\n",
      "56\n",
      "57\n",
      "58\n",
      "59\n",
      "60\n",
      "61\n",
      "62\n",
      "63\n",
      "64\n",
      "65\n",
      "66\n",
      "67\n",
      "68\n",
      "69\n",
      "70\n",
      "71\n",
      "72\n",
      "73\n",
      "74\n",
      "75\n",
      "76\n",
      "77\n",
      "78\n",
      "79\n",
      "80\n",
      "81\n",
      "82\n",
      "83\n",
      "84\n",
      "85\n",
      "86\n",
      "87\n",
      "88\n",
      "89\n",
      "90\n",
      "91\n",
      "92\n",
      "93\n",
      "94\n",
      "95\n",
      "96\n",
      "97\n",
      "98\n",
      "99\n",
      "100\n"
     ]
    }
   ],
   "source": [
    "#EL\n",
    "pred_list = []\n",
    "\n",
    "import scipy.optimize as opt\n",
    "\n",
    "def sigmoid(z):\n",
    "    y = 1 / (1 + np.exp(-z))\n",
    "    return y\n",
    "\n",
    "def cost(theta, X, y):\n",
    "    ''' cost function for you to minimize'''\n",
    "    m = X.shape[0]\n",
    "    totalSum = 0\n",
    "    for i in range(m):\n",
    "        xi = X[i]\n",
    "        totalSum += -y[i] * np.log(1 / (1 + np.exp(-sum(xi * theta)))) - (1 - y[i]) * np.log(1 - (1 / (1 + np.exp(-sum(xi * theta)))))\n",
    "    fin = 1 / m * float(totalSum)  # J(theta)\n",
    "    return fin\n",
    "\n",
    "def regularized_cost(theta, X, y, l=1):\n",
    "\n",
    "    #     '''you don't penalize theta_0'''\n",
    "    theta_j1_to_n = theta[1:]\n",
    "    m = X.shape[0]\n",
    "    sumThe = 0\n",
    "    for i in range(len(theta_j1_to_n)):\n",
    "        sumThe += theta_j1_to_n[i] * theta_j1_to_n[i]\n",
    "    #print(cost(theta, X, y))\n",
    "    regularized_term = l / (2 * m) * sumThe# your code here\n",
    "    #print(regularized_term)\n",
    "    \n",
    "    return cost(theta, X, y) + regularized_term\n",
    "\n",
    "def gradient(theta, X, y):\n",
    "    return np.dot(np.transpose(X), (sigmoid(np.dot(X, theta)) - y)) / len(X)\n",
    "\n",
    "def regularized_gradient(theta, X, y, reg_lambda=1):\n",
    "#     '''still, leave theta_0 alone'''\n",
    "    #print(X)\n",
    "    res = (reg_lambda/len(X)) * theta  # λ / m * θj\n",
    "    res[0] = 0  # theta0 = 0\n",
    "    return gradient(theta, X, y) + res\n",
    "\n",
    "def predict(theta, X):\n",
    "    probability = 1 / (1 + np.exp(np.dot(-X, theta)))  # h_theta(x) # your code goes here\n",
    "    return np.array((probability >= 0.5).astype(int))\n",
    "\n",
    "for num in range(101):\n",
    "    print(num)\n",
    "    #bootstrap\n",
    "    ind = np.random.choice(train_X.shape[0], size=train_X.shape[0], replace=True)\n",
    "    #print(ind)\n",
    "    new_train_X = train_X.iloc[ind]\n",
    "    new_train_y = train_y.iloc[ind]\n",
    "    \n",
    "    #print(new_train_X)\n",
    "    \n",
    "    #train\n",
    "    theta = np.zeros(train_X.shape[1])\n",
    "    nx = np.array(new_train_X)\n",
    "    ny = np.array(new_train_y)\n",
    "    #result = opt.minimize(fun = cost, x0 = theta, args = (nx, ny), method = 'TNC', jac = gradient)\n",
    "    result = opt.minimize(fun=regularized_cost, x0=theta, args=(nx, ny), method='TNC', jac=regularized_gradient)\n",
    "    \n",
    "    final_theta = result.x\n",
    "    #print(final_theta)\n",
    "    #y_pred = predict(final_theta, np.array(eval_X))\n",
    "    #print(y_pred)\n",
    "    \n",
    "    pred_list.append(np.array(predict(final_theta, np.array(eval_X))).T)\n",
    "    #print(np.array(fin_svc.predict(eval_X)))"
   ]
  },
  {
   "cell_type": "code",
   "execution_count": 38,
   "id": "7607573c",
   "metadata": {},
   "outputs": [
    {
     "name": "stdout",
     "output_type": "stream",
     "text": [
      "EL:\n",
      "Accuracy Score is: 0.5589622641509434\n",
      "Precision Score is: 0.5836431226765799\n",
      "Recall Score is: 0.6767241379310345\n",
      "F1 Score is: 0.6267465069860279\n",
      "\n",
      "Confusion_matrix is:\n",
      " [[ 80 112]\n",
      " [ 75 157]]\n"
     ]
    }
   ],
   "source": [
    "pred_resu_EL = pd.DataFrame(pred_list).T\n",
    "final_pred_EL = []\n",
    "for i in range(pred_resu_EL.shape[0]):\n",
    "    if sum(pred_resu_EL.iloc[i]) > 50:\n",
    "        final_pred_EL.append(1)\n",
    "    else:\n",
    "        final_pred_EL.append(0)\n",
    "\n",
    "#sum(final_pred_EL == eval_y) / final_pred_EL.shape[0]\n",
    "\n",
    "print(\"EL:\")\n",
    "performance(eval_y, final_pred_EL)"
   ]
  },
  {
   "cell_type": "code",
   "execution_count": null,
   "id": "b595e2d0",
   "metadata": {},
   "outputs": [],
   "source": []
  }
 ],
 "metadata": {
  "kernelspec": {
   "display_name": "Python 3 (ipykernel)",
   "language": "python",
   "name": "python3"
  },
  "language_info": {
   "codemirror_mode": {
    "name": "ipython",
    "version": 3
   },
   "file_extension": ".py",
   "mimetype": "text/x-python",
   "name": "python",
   "nbconvert_exporter": "python",
   "pygments_lexer": "ipython3",
   "version": "3.9.7"
  }
 },
 "nbformat": 4,
 "nbformat_minor": 5
}
