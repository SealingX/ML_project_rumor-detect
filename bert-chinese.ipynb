{
 "cells": [
  {
   "cell_type": "code",
   "execution_count": 1,
   "id": "1eb2acec",
   "metadata": {
    "execution": {
     "iopub.execute_input": "2022-05-21T19:43:56.660444Z",
     "iopub.status.busy": "2022-05-21T19:43:56.659893Z",
     "iopub.status.idle": "2022-05-21T19:43:58.232915Z",
     "shell.execute_reply": "2022-05-21T19:43:58.232309Z"
    },
    "papermill": {
     "duration": 1.593161,
     "end_time": "2022-05-21T19:43:58.235156",
     "exception": false,
     "start_time": "2022-05-21T19:43:56.641995",
     "status": "completed"
    },
    "tags": []
   },
   "outputs": [],
   "source": [
    "import zipfile\n",
    "import os\n",
    "import random\n",
    "from PIL import Image\n",
    "from PIL import ImageEnhance\n",
    "import json\n",
    "import torch"
   ]
  },
  {
   "cell_type": "code",
   "execution_count": 2,
   "id": "4794072c",
   "metadata": {
    "execution": {
     "iopub.execute_input": "2022-05-21T19:43:58.266178Z",
     "iopub.status.busy": "2022-05-21T19:43:58.265854Z",
     "iopub.status.idle": "2022-05-21T19:43:58.274295Z",
     "shell.execute_reply": "2022-05-21T19:43:58.273659Z"
    },
    "papermill": {
     "duration": 0.026811,
     "end_time": "2022-05-21T19:43:58.276339",
     "exception": false,
     "start_time": "2022-05-21T19:43:58.249528",
     "status": "completed"
    },
    "tags": []
   },
   "outputs": [],
   "source": [
    "from pylab import *\n",
    "def ploting(name,x,y):\n",
    "    plt.rcParams['figure.figsize'] = (12.0, 8.0) \n",
    "    plt.plot(x, y, 'ro-', color='#4169E1', alpha=0.8, label=name)\n",
    "    plt.legend(loc=\"upper right\")\n",
    "    plt.xlabel('iter')\n",
    "    plt.ylabel(name)\n",
    "    plt.show()"
   ]
  },
  {
   "cell_type": "code",
   "execution_count": 3,
   "id": "c62878c0",
   "metadata": {
    "execution": {
     "iopub.execute_input": "2022-05-21T19:43:58.306098Z",
     "iopub.status.busy": "2022-05-21T19:43:58.305575Z",
     "iopub.status.idle": "2022-05-21T19:44:20.126978Z",
     "shell.execute_reply": "2022-05-21T19:44:20.125972Z"
    },
    "papermill": {
     "duration": 21.838598,
     "end_time": "2022-05-21T19:44:20.129208",
     "exception": false,
     "start_time": "2022-05-21T19:43:58.290610",
     "status": "completed"
    },
    "tags": []
   },
   "outputs": [
    {
     "name": "stdout",
     "output_type": "stream",
     "text": [
      "The total number of rumor data is: 1538\n",
      "The total number of non-rumor data is: 1849\n"
     ]
    }
   ],
   "source": [
    "# define intitial path\n",
    "target_path=\"/kaggle/input/weibo-dataset\"\n",
    "\n",
    "# read the file\n",
    "rumor_class_dirs = os.listdir(target_path+\"/Chinese_Rumor_Dataset-master/CED_Dataset/rumor-repost/\")\n",
    "non_rumor_class_dirs = os.listdir(target_path+\"/Chinese_Rumor_Dataset-master/CED_Dataset/non-rumor-repost/\")\n",
    "original_microblog = target_path+\"/Chinese_Rumor_Dataset-master/CED_Dataset/original-microblog/\"\n",
    "\n",
    "# pin the label of if rumor\n",
    "rumor_label=\"0\"\n",
    "non_rumor_label=\"1\"\n",
    "\n",
    "rumor_num = 0\n",
    "non_rumor_num = 0\n",
    "\n",
    "# calculate the length of dataset\n",
    "all_rumor_list = []\n",
    "all_non_rumor_list = []\n",
    "\n",
    "# read the data which is totally rumor\n",
    "for rumor_class_dir in rumor_class_dirs: \n",
    "    if(rumor_class_dir != '.DS_Store'):\n",
    "        # read each data and got the content of it\n",
    "        with open(original_microblog + rumor_class_dir, 'r') as f:\n",
    "            rumor_content = f.read()\n",
    "        rumor_dict = json.loads(rumor_content)\n",
    "        # put it into the rumor list\n",
    "        all_rumor_list.append(rumor_label+\"\\t\"+rumor_dict[\"text\"]+\"\\n\")\n",
    "        rumor_num +=1\n",
    "\n",
    "\n",
    "# read the data which is not rumor\n",
    "for non_rumor_class_dir in non_rumor_class_dirs: \n",
    "    if(non_rumor_class_dir != '.DS_Store'):\n",
    "        # read each data\n",
    "        with open(original_microblog + non_rumor_class_dir, 'r') as f2:\n",
    "            non_rumor_content = f2.read()\n",
    "        non_rumor_dict = json.loads(non_rumor_content)\n",
    "        # put it into the all rumor list\n",
    "        all_non_rumor_list.append(non_rumor_label+\"\\t\"+non_rumor_dict[\"text\"]+\"\\n\")\n",
    "        non_rumor_num +=1\n",
    "        \n",
    "print(\"The total number of rumor data is: \"+str(rumor_num))\n",
    "print(\"The total number of non-rumor data is: \"+str(non_rumor_num))"
   ]
  },
  {
   "cell_type": "code",
   "execution_count": 4,
   "id": "69655c69",
   "metadata": {
    "execution": {
     "iopub.execute_input": "2022-05-21T19:44:20.160738Z",
     "iopub.status.busy": "2022-05-21T19:44:20.159964Z",
     "iopub.status.idle": "2022-05-21T19:44:20.172452Z",
     "shell.execute_reply": "2022-05-21T19:44:20.171553Z"
    },
    "papermill": {
     "duration": 0.029877,
     "end_time": "2022-05-21T19:44:20.174458",
     "exception": false,
     "start_time": "2022-05-21T19:44:20.144581",
     "status": "completed"
    },
    "tags": []
   },
   "outputs": [],
   "source": [
    "# write all the data into all_data.txt after shuffle\n",
    "import random\n",
    "\n",
    "data_list_path=\"/kaggle/working/\"\n",
    "all_data_path=data_list_path + \"all_data.txt\"\n",
    "\n",
    "all_data_list = all_rumor_list + all_non_rumor_list\n",
    "\n",
    "random.shuffle(all_data_list)\n",
    "\n",
    "# before generating the txt, we need to empty it\n",
    "with open(all_data_path, 'w') as f:\n",
    "    f.seek(0)\n",
    "    f.truncate() \n",
    "\n",
    "# write all the data\n",
    "with open(all_data_path, 'a') as f:\n",
    "    for data in all_data_list:\n",
    "        f.write(data)"
   ]
  },
  {
   "cell_type": "markdown",
   "id": "e8d1d340",
   "metadata": {
    "papermill": {
     "duration": 0.01365,
     "end_time": "2022-05-21T19:44:20.202308",
     "exception": false,
     "start_time": "2022-05-21T19:44:20.188658",
     "status": "completed"
    },
    "tags": []
   },
   "source": [
    "Read the data line by line, and store them into list"
   ]
  },
  {
   "cell_type": "code",
   "execution_count": 5,
   "id": "176dd0d2",
   "metadata": {
    "execution": {
     "iopub.execute_input": "2022-05-21T19:44:20.231860Z",
     "iopub.status.busy": "2022-05-21T19:44:20.231608Z",
     "iopub.status.idle": "2022-05-21T19:44:20.251866Z",
     "shell.execute_reply": "2022-05-21T19:44:20.251015Z"
    },
    "papermill": {
     "duration": 0.037189,
     "end_time": "2022-05-21T19:44:20.253644",
     "exception": false,
     "start_time": "2022-05-21T19:44:20.216455",
     "status": "completed"
    },
    "tags": []
   },
   "outputs": [
    {
     "data": {
      "text/plain": [
       "('【网传李天一案女主角撤诉】据某著名编辑透露，李天一案女主角撤销控诉，已达和解意向。因未满18岁，且当时已醉酒，被重判的可能性极低，经李天一等人家长的奔走，最终联系上女孩父母进行“长谈”，受害人终得到包括落实北京户口、工作及一套住房。#网友：原来京城的户口是可以用来轮奸的！#',\n",
       " 0)"
      ]
     },
     "execution_count": 5,
     "metadata": {},
     "output_type": "execute_result"
    }
   ],
   "source": [
    "all_data_with_label = []\n",
    "\n",
    "with open(os.path.join(data_list_path, 'all_data.txt'), 'r', encoding='utf-8') as f_data:\n",
    "    lines = f_data.readlines()\n",
    "for line in lines:\n",
    "    words = line.split('\\t')[-1].replace('\\n', '')\n",
    "    label = line.split('\\t')[0]\n",
    "    all_data_with_label.append((words,int(label)))\n",
    "\n",
    "all_data_with_label[0]"
   ]
  },
  {
   "cell_type": "code",
   "execution_count": 6,
   "id": "f31c9999",
   "metadata": {
    "execution": {
     "iopub.execute_input": "2022-05-21T19:44:20.284183Z",
     "iopub.status.busy": "2022-05-21T19:44:20.283896Z",
     "iopub.status.idle": "2022-05-21T19:44:20.289410Z",
     "shell.execute_reply": "2022-05-21T19:44:20.288519Z"
    },
    "papermill": {
     "duration": 0.023004,
     "end_time": "2022-05-21T19:44:20.291291",
     "exception": false,
     "start_time": "2022-05-21T19:44:20.268287",
     "status": "completed"
    },
    "tags": []
   },
   "outputs": [
    {
     "data": {
      "text/plain": [
       "3387"
      ]
     },
     "execution_count": 6,
     "metadata": {},
     "output_type": "execute_result"
    }
   ],
   "source": [
    "len(all_data_with_label)"
   ]
  },
  {
   "cell_type": "code",
   "execution_count": 7,
   "id": "97993f22",
   "metadata": {
    "execution": {
     "iopub.execute_input": "2022-05-21T19:44:20.323654Z",
     "iopub.status.busy": "2022-05-21T19:44:20.323048Z",
     "iopub.status.idle": "2022-05-21T19:44:21.349023Z",
     "shell.execute_reply": "2022-05-21T19:44:21.348222Z"
    },
    "papermill": {
     "duration": 1.044496,
     "end_time": "2022-05-21T19:44:21.350981",
     "exception": false,
     "start_time": "2022-05-21T19:44:20.306485",
     "status": "completed"
    },
    "tags": []
   },
   "outputs": [
    {
     "data": {
      "text/plain": [
       "(2709, 678)"
      ]
     },
     "execution_count": 7,
     "metadata": {},
     "output_type": "execute_result"
    }
   ],
   "source": [
    "# split the training set and the testing set\n",
    "from sklearn.model_selection import train_test_split\n",
    "\n",
    "train_set, test_set = train_test_split(all_data_with_label, test_size=0.2, random_state=42)\n",
    "len(train_set),len(test_set)"
   ]
  },
  {
   "cell_type": "code",
   "execution_count": 8,
   "id": "b624b7c5",
   "metadata": {
    "execution": {
     "iopub.execute_input": "2022-05-21T19:44:21.383943Z",
     "iopub.status.busy": "2022-05-21T19:44:21.382997Z",
     "iopub.status.idle": "2022-05-21T19:44:35.567085Z",
     "shell.execute_reply": "2022-05-21T19:44:35.566258Z"
    },
    "papermill": {
     "duration": 14.202872,
     "end_time": "2022-05-21T19:44:35.569313",
     "exception": false,
     "start_time": "2022-05-21T19:44:21.366441",
     "status": "completed"
    },
    "tags": []
   },
   "outputs": [
    {
     "data": {
      "application/vnd.jupyter.widget-view+json": {
       "model_id": "d3767b42b676466dafd918df33d0ffae",
       "version_major": 2,
       "version_minor": 0
      },
      "text/plain": [
       "Downloading:   0%|          | 0.00/107k [00:00<?, ?B/s]"
      ]
     },
     "metadata": {},
     "output_type": "display_data"
    },
    {
     "data": {
      "application/vnd.jupyter.widget-view+json": {
       "model_id": "74bbba72f37f4b68a6863eea5907b053",
       "version_major": 2,
       "version_minor": 0
      },
      "text/plain": [
       "Downloading:   0%|          | 0.00/29.0 [00:00<?, ?B/s]"
      ]
     },
     "metadata": {},
     "output_type": "display_data"
    },
    {
     "data": {
      "application/vnd.jupyter.widget-view+json": {
       "model_id": "8b05bb25045847c59152caa7f7ecbde6",
       "version_major": 2,
       "version_minor": 0
      },
      "text/plain": [
       "Downloading:   0%|          | 0.00/624 [00:00<?, ?B/s]"
      ]
     },
     "metadata": {},
     "output_type": "display_data"
    },
    {
     "data": {
      "text/plain": [
       "PreTrainedTokenizer(name_or_path='bert-base-chinese', vocab_size=21128, model_max_len=512, is_fast=False, padding_side='right', truncation_side='right', special_tokens={'unk_token': '[UNK]', 'sep_token': '[SEP]', 'pad_token': '[PAD]', 'cls_token': '[CLS]', 'mask_token': '[MASK]'})"
      ]
     },
     "execution_count": 8,
     "metadata": {},
     "output_type": "execute_result"
    }
   ],
   "source": [
    "from transformers import BertTokenizer\n",
    "\n",
    "# loading the dictionary and the word segmentation tool for chinese\n",
    "# taken each chinese character as a word\n",
    "token = BertTokenizer.from_pretrained('bert-base-chinese')\n",
    "\n",
    "# it seems to be one to one\n",
    "token"
   ]
  },
  {
   "cell_type": "code",
   "execution_count": 9,
   "id": "890058da",
   "metadata": {
    "execution": {
     "iopub.execute_input": "2022-05-21T19:44:35.606078Z",
     "iopub.status.busy": "2022-05-21T19:44:35.605512Z",
     "iopub.status.idle": "2022-05-21T19:44:35.696382Z",
     "shell.execute_reply": "2022-05-21T19:44:35.695615Z"
    },
    "papermill": {
     "duration": 0.111308,
     "end_time": "2022-05-21T19:44:35.698766",
     "exception": false,
     "start_time": "2022-05-21T19:44:35.587458",
     "status": "completed"
    },
    "scrolled": true,
    "tags": []
   },
   "outputs": [
    {
     "name": "stdout",
     "output_type": "stream",
     "text": [
      "169\n"
     ]
    },
    {
     "data": {
      "text/plain": [
       "(torch.Size([16, 500]),\n",
       " torch.Size([16, 500]),\n",
       " torch.Size([16, 500]),\n",
       " tensor([0, 1, 0, 1, 1, 1, 0, 0, 1, 0, 0, 1, 1, 0, 0, 1]))"
      ]
     },
     "execution_count": 9,
     "metadata": {},
     "output_type": "execute_result"
    }
   ],
   "source": [
    "# collate function\n",
    "def collate_fn(data):\n",
    "    # split the sentences and labels\n",
    "    sents = [i[0] for i in data]\n",
    "    labels = [i[1] for i in data]\n",
    "\n",
    "    # encoding, we loading the token of chinese\n",
    "    # Batch coding\n",
    "    data = token.batch_encode_plus(batch_text_or_text_pairs=sents,  # this is the sentences \n",
    "                                   truncation=True,                 # if exceed the max length, it will be cut\n",
    "                                   padding='max_length',            # padding zero to the max length\n",
    "                                   max_length=500,                  # max length of the sentence\n",
    "                                   return_tensors='pt',             # the type (pythorch or tensorflow) used pt\n",
    "                                   return_length=True)              # it will contain the length\n",
    "\n",
    "    # the number after the encoding\n",
    "    input_ids = data['input_ids']\n",
    "    # the place where we padding 0 is 0, other with orginial data is 1\n",
    "    attention_mask = data['attention_mask']\n",
    "    # since every sentence is one sentence, everything will be 0\n",
    "    token_type_ids = data['token_type_ids']\n",
    "    # modify the type of labels\n",
    "    labels = torch.LongTensor(labels)\n",
    "\n",
    "#     print(data['length'], data['length'].max())\n",
    "#     print(labels)\n",
    "\n",
    "    return input_ids, attention_mask, token_type_ids, labels\n",
    "\n",
    "# Using small batch training tends to converge to flat minimization\n",
    "batch_size = 16\n",
    "\n",
    "# data loader\n",
    "loader = torch.utils.data.DataLoader(dataset=train_set,             # the input is the training set\n",
    "                                     batch_size=batch_size,         # the number of data samples captured in one training\n",
    "                                     collate_fn=collate_fn,         # use the collate function(Merge the data and labels of a batch)\n",
    "                                     shuffle=True,                  # mix the data\n",
    "                                     drop_last=True)                # Delete the incomplete last batch\n",
    "\n",
    "# view the data\n",
    "for i, (input_ids, attention_mask, token_type_ids,labels) in enumerate(loader):\n",
    "    break\n",
    "\n",
    "print(len(loader))\n",
    "input_ids.shape, attention_mask.shape, token_type_ids.shape, labels"
   ]
  },
  {
   "cell_type": "code",
   "execution_count": 10,
   "id": "ed8f21f6",
   "metadata": {
    "execution": {
     "iopub.execute_input": "2022-05-21T19:44:35.735509Z",
     "iopub.status.busy": "2022-05-21T19:44:35.735007Z",
     "iopub.status.idle": "2022-05-21T19:45:43.476123Z",
     "shell.execute_reply": "2022-05-21T19:45:43.475189Z"
    },
    "papermill": {
     "duration": 67.785111,
     "end_time": "2022-05-21T19:45:43.501064",
     "exception": false,
     "start_time": "2022-05-21T19:44:35.715953",
     "status": "completed"
    },
    "tags": []
   },
   "outputs": [
    {
     "data": {
      "application/vnd.jupyter.widget-view+json": {
       "model_id": "f6c822c39f8f43b589ad125dd9e6182c",
       "version_major": 2,
       "version_minor": 0
      },
      "text/plain": [
       "Downloading:   0%|          | 0.00/393M [00:00<?, ?B/s]"
      ]
     },
     "metadata": {},
     "output_type": "display_data"
    },
    {
     "name": "stderr",
     "output_type": "stream",
     "text": [
      "Some weights of the model checkpoint at bert-base-chinese were not used when initializing BertModel: ['cls.predictions.transform.dense.weight', 'cls.predictions.transform.LayerNorm.weight', 'cls.predictions.decoder.weight', 'cls.predictions.bias', 'cls.predictions.transform.dense.bias', 'cls.seq_relationship.weight', 'cls.predictions.transform.LayerNorm.bias', 'cls.seq_relationship.bias']\n",
      "- This IS expected if you are initializing BertModel from the checkpoint of a model trained on another task or with another architecture (e.g. initializing a BertForSequenceClassification model from a BertForPreTraining model).\n",
      "- This IS NOT expected if you are initializing BertModel from the checkpoint of a model that you expect to be exactly identical (initializing a BertForSequenceClassification model from a BertForSequenceClassification model).\n"
     ]
    },
    {
     "data": {
      "text/plain": [
       "torch.Size([16, 500, 768])"
      ]
     },
     "execution_count": 10,
     "metadata": {},
     "output_type": "execute_result"
    }
   ],
   "source": [
    "from transformers import BertModel\n",
    "\n",
    "# load the pre-trained model\n",
    "pretrained = BertModel.from_pretrained('bert-base-chinese')\n",
    "\n",
    "# we just need to use it but not train it\n",
    "for param in pretrained.parameters():\n",
    "    param.requires_grad_(False)\n",
    "\n",
    "# test for the pretrained data\n",
    "out = pretrained(input_ids=input_ids,\n",
    "           attention_mask=attention_mask,\n",
    "           token_type_ids=token_type_ids)\n",
    "\n",
    "# 16 batch size for the 500 max length, 768 is the dimension of encoding\n",
    "out.last_hidden_state.shape"
   ]
  },
  {
   "cell_type": "code",
   "execution_count": 11,
   "id": "f3a0dff9",
   "metadata": {
    "execution": {
     "iopub.execute_input": "2022-05-21T19:45:43.541433Z",
     "iopub.status.busy": "2022-05-21T19:45:43.540793Z",
     "iopub.status.idle": "2022-05-21T19:46:00.424995Z",
     "shell.execute_reply": "2022-05-21T19:46:00.423922Z"
    },
    "papermill": {
     "duration": 16.907516,
     "end_time": "2022-05-21T19:46:00.427311",
     "exception": false,
     "start_time": "2022-05-21T19:45:43.519795",
     "status": "completed"
    },
    "tags": []
   },
   "outputs": [
    {
     "data": {
      "text/plain": [
       "torch.Size([16, 2])"
      ]
     },
     "execution_count": 11,
     "metadata": {},
     "output_type": "execute_result"
    }
   ],
   "source": [
    "# First take the pre training model for calculation, extract the features from the data, \n",
    "# and then put the features into the fully connected neural network for calculation\n",
    "\n",
    "# Feature extraction based on pre training\n",
    "\n",
    "# Transfer learning through downstream tasks\n",
    "class Model(torch.nn.Module):\n",
    "    def __init__(self):\n",
    "        super().__init__()\n",
    "        # Single layer of totally connected neural network(2 means the classes number)\n",
    "        self.fc = torch.nn.Linear(768, 2)\n",
    "    \n",
    "    def forward(self, input_ids, attention_mask, token_type_ids):\n",
    "        with torch.no_grad():\n",
    "            out = pretrained(input_ids=input_ids,\n",
    "                       attention_mask=attention_mask,\n",
    "                       token_type_ids=token_type_ids)\n",
    "        \n",
    "        # Only the features of the 0th word need to be used\n",
    "        # [cls] is used for classification tasks and appears at the 0th index of the bert output\n",
    "        out = self.fc(out.last_hidden_state[:, 0])\n",
    "\n",
    "        out = out.softmax(dim=1)\n",
    "\n",
    "        return out\n",
    "\n",
    "\n",
    "model = Model()\n",
    "\n",
    "model(input_ids=input_ids,\n",
    "      attention_mask=attention_mask,\n",
    "      token_type_ids=token_type_ids).shape"
   ]
  },
  {
   "cell_type": "code",
   "execution_count": 12,
   "id": "2789e778",
   "metadata": {
    "execution": {
     "iopub.execute_input": "2022-05-21T19:46:00.466419Z",
     "iopub.status.busy": "2022-05-21T19:46:00.466113Z",
     "iopub.status.idle": "2022-05-21T20:33:02.516970Z",
     "shell.execute_reply": "2022-05-21T20:33:02.516239Z"
    },
    "papermill": {
     "duration": 2822.073536,
     "end_time": "2022-05-21T20:33:02.519655",
     "exception": false,
     "start_time": "2022-05-21T19:46:00.446119",
     "status": "completed"
    },
    "tags": []
   },
   "outputs": [
    {
     "name": "stderr",
     "output_type": "stream",
     "text": [
      "/opt/conda/lib/python3.7/site-packages/transformers/optimization.py:309: FutureWarning: This implementation of AdamW is deprecated and will be removed in a future version. Use the PyTorch implementation torch.optim.AdamW instead, or set `no_deprecation_warning=True` to disable this warning\n",
      "  FutureWarning,\n"
     ]
    },
    {
     "name": "stdout",
     "output_type": "stream",
     "text": [
      "0 0.7079732418060303 0.4375\n",
      "5 0.6734872460365295 0.625\n",
      "10 0.7166863083839417 0.5\n",
      "15 0.6650124788284302 0.625\n",
      "20 0.6301207542419434 0.8125\n",
      "25 0.6100216507911682 0.6875\n",
      "30 0.6187005639076233 0.6875\n",
      "35 0.5914048552513123 0.6875\n",
      "40 0.5986233353614807 0.6875\n",
      "45 0.604082465171814 0.625\n",
      "50 0.6014761924743652 0.75\n",
      "55 0.6103348135948181 0.75\n",
      "60 0.5540513396263123 0.8125\n",
      "65 0.5986306071281433 0.75\n",
      "70 0.5993694067001343 0.6875\n",
      "75 0.6079795360565186 0.625\n",
      "80 0.48610731959342957 0.875\n",
      "85 0.5841817855834961 0.6875\n",
      "90 0.47708654403686523 0.875\n",
      "95 0.5701515674591064 0.625\n",
      "100 0.589171826839447 0.6875\n",
      "105 0.5112141370773315 0.875\n",
      "110 0.5339287519454956 0.8125\n",
      "115 0.5027205944061279 0.8125\n",
      "120 0.5224718451499939 0.75\n",
      "125 0.5925419926643372 0.6875\n",
      "130 0.4663441777229309 1.0\n",
      "135 0.41863515973091125 0.9375\n",
      "140 0.43328556418418884 0.9375\n",
      "145 0.5699645280838013 0.75\n",
      "150 0.45524054765701294 0.875\n",
      "155 0.5250437259674072 0.8125\n",
      "160 0.5441185235977173 0.75\n",
      "165 0.5515192747116089 0.8125\n"
     ]
    }
   ],
   "source": [
    "from transformers import AdamW\n",
    "\n",
    "# training the model\n",
    "optimizer = AdamW(model.parameters(), lr=5e-4)\n",
    "# cross entropy loss as the criterion\n",
    "criterion = torch.nn.CrossEntropyLoss()\n",
    "\n",
    "x=[]\n",
    "y_l=[]\n",
    "y_a=[]\n",
    "\n",
    "model.train()\n",
    "for i, (input_ids, attention_mask, token_type_ids,labels) in enumerate(loader):\n",
    "    # get the output\n",
    "    out = model(input_ids=input_ids,\n",
    "                attention_mask=attention_mask,\n",
    "                token_type_ids=token_type_ids)\n",
    "    # get the loss and minimize it\n",
    "    loss = criterion(out, labels)\n",
    "    loss.backward()\n",
    "    optimizer.step()\n",
    "    optimizer.zero_grad()\n",
    "    \n",
    "    # save the model for every five times\n",
    "    if i % 5 == 0:\n",
    "        out = out.argmax(dim=1)\n",
    "        accuracy = (out == labels).sum().item() / len(labels)\n",
    "        torch.save(model,\"bert_model.pt\")\n",
    "        \n",
    "        # for each time, print the accuracy\n",
    "        print(i, loss.item(), accuracy)\n",
    "\n",
    "        x.append(i)\n",
    "        y_l.append(loss.item())\n",
    "        y_a.append(accuracy)"
   ]
  },
  {
   "cell_type": "code",
   "execution_count": 13,
   "id": "53deccec",
   "metadata": {
    "execution": {
     "iopub.execute_input": "2022-05-21T20:33:02.578481Z",
     "iopub.status.busy": "2022-05-21T20:33:02.577928Z",
     "iopub.status.idle": "2022-05-21T20:33:02.853248Z",
     "shell.execute_reply": "2022-05-21T20:33:02.852410Z"
    },
    "papermill": {
     "duration": 0.306928,
     "end_time": "2022-05-21T20:33:02.855086",
     "exception": false,
     "start_time": "2022-05-21T20:33:02.548158",
     "status": "completed"
    },
    "tags": []
   },
   "outputs": [
    {
     "name": "stderr",
     "output_type": "stream",
     "text": [
      "/opt/conda/lib/python3.7/site-packages/ipykernel_launcher.py:4: UserWarning: color is redundantly defined by the 'color' keyword argument and the fmt string \"ro-\" (-> color='r'). The keyword argument will take precedence.\n",
      "  after removing the cwd from sys.path.\n"
     ]
    },
    {
     "data": {
      "image/png": "[encoded data removed]",
      "text/plain": [
       "<Figure size 864x576 with 1 Axes>"
      ]
     },
     "metadata": {
      "needs_background": "light"
     },
     "output_type": "display_data"
    }
   ],
   "source": [
    "name_a = \"Accuary\"\n",
    "name_l = \"Loss\"\n",
    "ploting(name_a,x,y_a)"
   ]
  },
  {
   "cell_type": "code",
   "execution_count": 14,
   "id": "6abd40be",
   "metadata": {
    "execution": {
     "iopub.execute_input": "2022-05-21T20:33:02.917600Z",
     "iopub.status.busy": "2022-05-21T20:33:02.917308Z",
     "iopub.status.idle": "2022-05-21T20:33:03.114191Z",
     "shell.execute_reply": "2022-05-21T20:33:03.113319Z"
    },
    "papermill": {
     "duration": 0.230242,
     "end_time": "2022-05-21T20:33:03.116244",
     "exception": false,
     "start_time": "2022-05-21T20:33:02.886002",
     "status": "completed"
    },
    "tags": []
   },
   "outputs": [
    {
     "name": "stderr",
     "output_type": "stream",
     "text": [
      "/opt/conda/lib/python3.7/site-packages/ipykernel_launcher.py:4: UserWarning: color is redundantly defined by the 'color' keyword argument and the fmt string \"ro-\" (-> color='r'). The keyword argument will take precedence.\n",
      "  after removing the cwd from sys.path.\n"
     ]
    },
    {
     "data": {
      "image/png": "[encoded data removed]",
      "text/plain": [
       "<Figure size 864x576 with 1 Axes>"
      ]
     },
     "metadata": {
      "needs_background": "light"
     },
     "output_type": "display_data"
    }
   ],
   "source": [
    "ploting(name_l,x,y_l)"
   ]
  },
  {
   "cell_type": "code",
   "execution_count": 15,
   "id": "db0b993a",
   "metadata": {
    "execution": {
     "iopub.execute_input": "2022-05-21T20:33:03.182749Z",
     "iopub.status.busy": "2022-05-21T20:33:03.182450Z",
     "iopub.status.idle": "2022-05-21T20:33:03.202142Z",
     "shell.execute_reply": "2022-05-21T20:33:03.201222Z"
    },
    "papermill": {
     "duration": 0.055125,
     "end_time": "2022-05-21T20:33:03.204081",
     "exception": false,
     "start_time": "2022-05-21T20:33:03.148956",
     "status": "completed"
    },
    "tags": []
   },
   "outputs": [
    {
     "name": "stdout",
     "output_type": "stream",
     "text": [
      "Accuracy Score is: 1.0\n",
      "Precision Score is: 1.0\n",
      "Recall Score is: 1.0\n",
      "F1 Score is: 1.0\n",
      "\n",
      "Confusion_matrix is:\n",
      " [[3 0]\n",
      " [0 3]]\n"
     ]
    }
   ],
   "source": [
    "from sklearn import metrics\n",
    "def performance(y_ture,y_pred):\n",
    "    print(\"Accuracy Score is:\",metrics.accuracy_score(y_ture, y_pred))\n",
    "    print(\"Precision Score is:\", metrics.precision_score(y_ture, y_pred))\n",
    "    print(\"Recall Score is:\",metrics.recall_score(y_ture, y_pred))\n",
    "    print(\"F1 Score is:\",metrics.f1_score(y_ture, y_pred))\n",
    "    print(\"\\nConfusion_matrix is:\\n\",metrics.confusion_matrix(y_ture, y_pred))\n",
    "    \n",
    "performance([1,0,1,0,0,1],[1,0,1,0,0,1])"
   ]
  },
  {
   "cell_type": "code",
   "execution_count": 16,
   "id": "2ec70a58",
   "metadata": {
    "execution": {
     "iopub.execute_input": "2022-05-21T20:33:03.271838Z",
     "iopub.status.busy": "2022-05-21T20:33:03.271361Z",
     "iopub.status.idle": "2022-05-21T20:45:28.659812Z",
     "shell.execute_reply": "2022-05-21T20:45:28.658915Z"
    },
    "papermill": {
     "duration": 745.47349,
     "end_time": "2022-05-21T20:45:28.710046",
     "exception": false,
     "start_time": "2022-05-21T20:33:03.236556",
     "status": "completed"
    },
    "tags": []
   },
   "outputs": [
    {
     "name": "stdout",
     "output_type": "stream",
     "text": [
      "0\n",
      "1\n",
      "2\n",
      "3\n",
      "4\n",
      "5\n",
      "6\n",
      "7\n",
      "8\n",
      "9\n",
      "10\n",
      "11\n",
      "12\n",
      "13\n",
      "14\n",
      "15\n",
      "16\n",
      "17\n",
      "18\n",
      "19\n",
      "20\n",
      "Accuracy Score is: 0.8511904761904762\n",
      "Precision Score is: 0.8396946564885496\n",
      "Recall Score is: 0.8991825613079019\n",
      "F1 Score is: 0.8684210526315788\n",
      "\n",
      "Confusion_matrix is:\n",
      " [[242  63]\n",
      " [ 37 330]]\n"
     ]
    }
   ],
   "source": [
    "# testing the accuarcy\n",
    "def test(model,if_load):\n",
    "    y_pred = []\n",
    "    y_true = []\n",
    "    if(if_load):\n",
    "        model = torch.load('/kaggle/input/model-pt/bert_model.pt')\n",
    "    try:\n",
    "        model.eval()\n",
    "    except:\n",
    "        return -1\n",
    "    correct = 0\n",
    "    total = 0\n",
    "    \n",
    "    # loading the test set\n",
    "    loader_test = torch.utils.data.DataLoader(dataset=test_set,\n",
    "                                              batch_size=32,\n",
    "                                              collate_fn=collate_fn,\n",
    "                                              shuffle=True,\n",
    "                                              drop_last=True)\n",
    "    \n",
    "    # use for each\n",
    "    for i, (input_ids, attention_mask, token_type_ids,labels) in enumerate(loader_test):\n",
    "\n",
    "#         if i == 2:\n",
    "#             break\n",
    "\n",
    "        print(i)\n",
    "        # get the output by the model\n",
    "        with torch.no_grad():\n",
    "            out = model(input_ids=input_ids,\n",
    "                        attention_mask=attention_mask,\n",
    "                        token_type_ids=token_type_ids)\n",
    "        \n",
    "        # get the argument max\n",
    "        out = out.argmax(dim=1)\n",
    "        # calculate the correct number and the total number\n",
    "        out_list = out.tolist()\n",
    "        labels_list = labels.tolist()\n",
    "        y_pred.extend(out_list)\n",
    "        y_true.extend(labels_list)\n",
    "    # print the final Result\n",
    "    performance(y_true,y_pred)\n",
    "\n",
    "if_load = 0\n",
    "test(model,if_load)"
   ]
  },
  {
   "cell_type": "code",
   "execution_count": null,
   "id": "15b64df7",
   "metadata": {
    "papermill": {
     "duration": 0.052579,
     "end_time": "2022-05-21T20:45:28.802955",
     "exception": false,
     "start_time": "2022-05-21T20:45:28.750376",
     "status": "completed"
    },
    "tags": []
   },
   "outputs": [],
   "source": []
  }
 ],
 "metadata": {
  "kernelspec": {
   "display_name": "Python 3",
   "language": "python",
   "name": "python3"
  },
  "language_info": {
   "codemirror_mode": {
    "name": "ipython",
    "version": 3
   },
   "file_extension": ".py",
   "mimetype": "text/x-python",
   "name": "python",
   "nbconvert_exporter": "python",
   "pygments_lexer": "ipython3",
   "version": "3.7.12"
  },
  "papermill": {
   "default_parameters": {},
   "duration": 3704.255719,
   "end_time": "2022-05-21T20:45:32.281899",
   "environment_variables": {},
   "exception": null,
   "input_path": "__notebook__.ipynb",
   "output_path": "__notebook__.ipynb",
   "parameters": {},
   "start_time": "2022-05-21T19:43:48.026180",
   "version": "2.3.4"
  },
  "widgets": {
   "application/vnd.jupyter.widget-state+json": {
    "state": {
     "0723316da83d4d46a1e31da65abc17f2": {
      "model_module": "@jupyter-widgets/controls",
      "model_module_version": "1.5.0",
      "model_name": "FloatProgressModel",
      "state": {
       "_dom_classes": [],
       "_model_module": "@jupyter-widgets/controls",
       "_model_module_version": "1.5.0",
       "_model_name": "FloatProgressModel",
       "_view_count": null,
       "_view_module": "@jupyter-widgets/controls",
       "_view_module_version": "1.5.0",
       "_view_name": "ProgressView",
       "bar_style": "success",
       "description": "",
       "description_tooltip": null,
       "layout": "IPY_MODEL_3b3439f647a14c2d840e20fe33d2e438",
       "max": 109540.0,
       "min": 0.0,
       "orientation": "horizontal",
       "style": "IPY_MODEL_50f899d6c2004022a8527b4450d09ba0",
       "value": 109540.0
      }
     },
     "0df9a0313bbf44d99dc90680763dd673": {
      "model_module": "@jupyter-widgets/base",
      "model_module_version": "1.2.0",
      "model_name": "LayoutModel",
      "state": {
       "_model_module": "@jupyter-widgets/base",
       "_model_module_version": "1.2.0",
       "_model_name": "LayoutModel",
       "_view_count": null,
       "_view_module": "@jupyter-widgets/base",
       "_view_module_version": "1.2.0",
       "_view_name": "LayoutView",
       "align_content": null,
       "align_items": null,
       "align_self": null,
       "border": null,
       "bottom": null,
       "display": null,
       "flex": null,
       "flex_flow": null,
       "grid_area": null,
       "grid_auto_columns": null,
       "grid_auto_flow": null,
       "grid_auto_rows": null,
       "grid_column": null,
       "grid_gap": null,
       "grid_row": null,
       "grid_template_areas": null,
       "grid_template_columns": null,
       "grid_template_rows": null,
       "height": null,
       "justify_content": null,
       "justify_items": null,
       "left": null,
       "margin": null,
       "max_height": null,
       "max_width": null,
       "min_height": null,
       "min_width": null,
       "object_fit": null,
       "object_position": null,
       "order": null,
       "overflow": null,
       "overflow_x": null,
       "overflow_y": null,
       "padding": null,
       "right": null,
       "top": null,
       "visibility": null,
       "width": null
      }
     },
     "1251ac4767a440d8bbb4a27ed5666ad0": {
      "model_module": "@jupyter-widgets/controls",
      "model_module_version": "1.5.0",
      "model_name": "ProgressStyleModel",
      "state": {
       "_model_module": "@jupyter-widgets/controls",
       "_model_module_version": "1.5.0",
       "_model_name": "ProgressStyleModel",
       "_view_count": null,
       "_view_module": "@jupyter-widgets/base",
       "_view_module_version": "1.2.0",
       "_view_name": "StyleView",
       "bar_color": null,
       "description_width": ""
      }
     },
     "1262f0cd2b1f4c7eb2f29ea6caad229a": {
      "model_module": "@jupyter-widgets/controls",
      "model_module_version": "1.5.0",
      "model_name": "ProgressStyleModel",
      "state": {
       "_model_module": "@jupyter-widgets/controls",
       "_model_module_version": "1.5.0",
       "_model_name": "ProgressStyleModel",
       "_view_count": null,
       "_view_module": "@jupyter-widgets/base",
       "_view_module_version": "1.2.0",
       "_view_name": "StyleView",
       "bar_color": null,
       "description_width": ""
      }
     },
     "15080a3079034f35b792126cef5c0600": {
      "model_module": "@jupyter-widgets/base",
      "model_module_version": "1.2.0",
      "model_name": "LayoutModel",
      "state": {
       "_model_module": "@jupyter-widgets/base",
       "_model_module_version": "1.2.0",
       "_model_name": "LayoutModel",
       "_view_count": null,
       "_view_module": "@jupyter-widgets/base",
       "_view_module_version": "1.2.0",
       "_view_name": "LayoutView",
       "align_content": null,
       "align_items": null,
       "align_self": null,
       "border": null,
       "bottom": null,
       "display": null,
       "flex": null,
       "flex_flow": null,
       "grid_area": null,
       "grid_auto_columns": null,
       "grid_auto_flow": null,
       "grid_auto_rows": null,
       "grid_column": null,
       "grid_gap": null,
       "grid_row": null,
       "grid_template_areas": null,
       "grid_template_columns": null,
       "grid_template_rows": null,
       "height": null,
       "justify_content": null,
       "justify_items": null,
       "left": null,
       "margin": null,
       "max_height": null,
       "max_width": null,
       "min_height": null,
       "min_width": null,
       "object_fit": null,
       "object_position": null,
       "order": null,
       "overflow": null,
       "overflow_x": null,
       "overflow_y": null,
       "padding": null,
       "right": null,
       "top": null,
       "visibility": null,
       "width": null
      }
     },
     "188a9efd3afc470aa73492f0240f953d": {
      "model_module": "@jupyter-widgets/base",
      "model_module_version": "1.2.0",
      "model_name": "LayoutModel",
      "state": {
       "_model_module": "@jupyter-widgets/base",
       "_model_module_version": "1.2.0",
       "_model_name": "LayoutModel",
       "_view_count": null,
       "_view_module": "@jupyter-widgets/base",
       "_view_module_version": "1.2.0",
       "_view_name": "LayoutView",
       "align_content": null,
       "align_items": null,
       "align_self": null,
       "border": null,
       "bottom": null,
       "display": null,
       "flex": null,
       "flex_flow": null,
       "grid_area": null,
       "grid_auto_columns": null,
       "grid_auto_flow": null,
       "grid_auto_rows": null,
       "grid_column": null,
       "grid_gap": null,
       "grid_row": null,
       "grid_template_areas": null,
       "grid_template_columns": null,
       "grid_template_rows": null,
       "height": null,
       "justify_content": null,
       "justify_items": null,
       "left": null,
       "margin": null,
       "max_height": null,
       "max_width": null,
       "min_height": null,
       "min_width": null,
       "object_fit": null,
       "object_position": null,
       "order": null,
       "overflow": null,
       "overflow_x": null,
       "overflow_y": null,
       "padding": null,
       "right": null,
       "top": null,
       "visibility": null,
       "width": null
      }
     },
     "2193218394ef4f33b2cb7df49899e18c": {
      "model_module": "@jupyter-widgets/base",
      "model_module_version": "1.2.0",
      "model_name": "LayoutModel",
      "state": {
       "_model_module": "@jupyter-widgets/base",
       "_model_module_version": "1.2.0",
       "_model_name": "LayoutModel",
       "_view_count": null,
       "_view_module": "@jupyter-widgets/base",
       "_view_module_version": "1.2.0",
       "_view_name": "LayoutView",
       "align_content": null,
       "align_items": null,
       "align_self": null,
       "border": null,
       "bottom": null,
       "display": null,
       "flex": null,
       "flex_flow": null,
       "grid_area": null,
       "grid_auto_columns": null,
       "grid_auto_flow": null,
       "grid_auto_rows": null,
       "grid_column": null,
       "grid_gap": null,
       "grid_row": null,
       "grid_template_areas": null,
       "grid_template_columns": null,
       "grid_template_rows": null,
       "height": null,
       "justify_content": null,
       "justify_items": null,
       "left": null,
       "margin": null,
       "max_height": null,
       "max_width": null,
       "min_height": null,
       "min_width": null,
       "object_fit": null,
       "object_position": null,
       "order": null,
       "overflow": null,
       "overflow_x": null,
       "overflow_y": null,
       "padding": null,
       "right": null,
       "top": null,
       "visibility": null,
       "width": null
      }
     },
     "2dc8533fe6a84d339f522cbd119f2866": {
      "model_module": "@jupyter-widgets/base",
      "model_module_version": "1.2.0",
      "model_name": "LayoutModel",
      "state": {
       "_model_module": "@jupyter-widgets/base",
       "_model_module_version": "1.2.0",
       "_model_name": "LayoutModel",
       "_view_count": null,
       "_view_module": "@jupyter-widgets/base",
       "_view_module_version": "1.2.0",
       "_view_name": "LayoutView",
       "align_content": null,
       "align_items": null,
       "align_self": null,
       "border": null,
       "bottom": null,
       "display": null,
       "flex": null,
       "flex_flow": null,
       "grid_area": null,
       "grid_auto_columns": null,
       "grid_auto_flow": null,
       "grid_auto_rows": null,
       "grid_column": null,
       "grid_gap": null,
       "grid_row": null,
       "grid_template_areas": null,
       "grid_template_columns": null,
       "grid_template_rows": null,
       "height": null,
       "justify_content": null,
       "justify_items": null,
       "left": null,
       "margin": null,
       "max_height": null,
       "max_width": null,
       "min_height": null,
       "min_width": null,
       "object_fit": null,
       "object_position": null,
       "order": null,
       "overflow": null,
       "overflow_x": null,
       "overflow_y": null,
       "padding": null,
       "right": null,
       "top": null,
       "visibility": null,
       "width": null
      }
     },
     "3b3439f647a14c2d840e20fe33d2e438": {
      "model_module": "@jupyter-widgets/base",
      "model_module_version": "1.2.0",
      "model_name": "LayoutModel",
      "state": {
       "_model_module": "@jupyter-widgets/base",
       "_model_module_version": "1.2.0",
       "_model_name": "LayoutModel",
       "_view_count": null,
       "_view_module": "@jupyter-widgets/base",
       "_view_module_version": "1.2.0",
       "_view_name": "LayoutView",
       "align_content": null,
       "align_items": null,
       "align_self": null,
       "border": null,
       "bottom": null,
       "display": null,
       "flex": null,
       "flex_flow": null,
       "grid_area": null,
       "grid_auto_columns": null,
       "grid_auto_flow": null,
       "grid_auto_rows": null,
       "grid_column": null,
       "grid_gap": null,
       "grid_row": null,
       "grid_template_areas": null,
       "grid_template_columns": null,
       "grid_template_rows": null,
       "height": null,
       "justify_content": null,
       "justify_items": null,
       "left": null,
       "margin": null,
       "max_height": null,
       "max_width": null,
       "min_height": null,
       "min_width": null,
       "object_fit": null,
       "object_position": null,
       "order": null,
       "overflow": null,
       "overflow_x": null,
       "overflow_y": null,
       "padding": null,
       "right": null,
       "top": null,
       "visibility": null,
       "width": null
      }
     },
     "461b50924f3d4a45989a55151c432653": {
      "model_module": "@jupyter-widgets/base",
      "model_module_version": "1.2.0",
      "model_name": "LayoutModel",
      "state": {
       "_model_module": "@jupyter-widgets/base",
       "_model_module_version": "1.2.0",
       "_model_name": "LayoutModel",
       "_view_count": null,
       "_view_module": "@jupyter-widgets/base",
       "_view_module_version": "1.2.0",
       "_view_name": "LayoutView",
       "align_content": null,
       "align_items": null,
       "align_self": null,
       "border": null,
       "bottom": null,
       "display": null,
       "flex": null,
       "flex_flow": null,
       "grid_area": null,
       "grid_auto_columns": null,
       "grid_auto_flow": null,
       "grid_auto_rows": null,
       "grid_column": null,
       "grid_gap": null,
       "grid_row": null,
       "grid_template_areas": null,
       "grid_template_columns": null,
       "grid_template_rows": null,
       "height": null,
       "justify_content": null,
       "justify_items": null,
       "left": null,
       "margin": null,
       "max_height": null,
       "max_width": null,
       "min_height": null,
       "min_width": null,
       "object_fit": null,
       "object_position": null,
       "order": null,
       "overflow": null,
       "overflow_x": null,
       "overflow_y": null,
       "padding": null,
       "right": null,
       "top": null,
       "visibility": null,
       "width": null
      }
     },
     "484884c45fe247a2a67a5e56b7c2d598": {
      "model_module": "@jupyter-widgets/base",
      "model_module_version": "1.2.0",
      "model_name": "LayoutModel",
      "state": {
       "_model_module": "@jupyter-widgets/base",
       "_model_module_version": "1.2.0",
       "_model_name": "LayoutModel",
       "_view_count": null,
       "_view_module": "@jupyter-widgets/base",
       "_view_module_version": "1.2.0",
       "_view_name": "LayoutView",
       "align_content": null,
       "align_items": null,
       "align_self": null,
       "border": null,
       "bottom": null,
       "display": null,
       "flex": null,
       "flex_flow": null,
       "grid_area": null,
       "grid_auto_columns": null,
       "grid_auto_flow": null,
       "grid_auto_rows": null,
       "grid_column": null,
       "grid_gap": null,
       "grid_row": null,
       "grid_template_areas": null,
       "grid_template_columns": null,
       "grid_template_rows": null,
       "height": null,
       "justify_content": null,
       "justify_items": null,
       "left": null,
       "margin": null,
       "max_height": null,
       "max_width": null,
       "min_height": null,
       "min_width": null,
       "object_fit": null,
       "object_position": null,
       "order": null,
       "overflow": null,
       "overflow_x": null,
       "overflow_y": null,
       "padding": null,
       "right": null,
       "top": null,
       "visibility": null,
       "width": null
      }
     },
     "48ec2bd4714a4b9e94d7896de922c206": {
      "model_module": "@jupyter-widgets/controls",
      "model_module_version": "1.5.0",
      "model_name": "FloatProgressModel",
      "state": {
       "_dom_classes": [],
       "_model_module": "@jupyter-widgets/controls",
       "_model_module_version": "1.5.0",
       "_model_name": "FloatProgressModel",
       "_view_count": null,
       "_view_module": "@jupyter-widgets/controls",
       "_view_module_version": "1.5.0",
       "_view_name": "ProgressView",
       "bar_style": "success",
       "description": "",
       "description_tooltip": null,
       "layout": "IPY_MODEL_2193218394ef4f33b2cb7df49899e18c",
       "max": 624.0,
       "min": 0.0,
       "orientation": "horizontal",
       "style": "IPY_MODEL_d19833d4ce4347ec852fd8fd83376120",
       "value": 624.0
      }
     },
     "504f346a789e491787543435da71ba9c": {
      "model_module": "@jupyter-widgets/controls",
      "model_module_version": "1.5.0",
      "model_name": "HTMLModel",
      "state": {
       "_dom_classes": [],
       "_model_module": "@jupyter-widgets/controls",
       "_model_module_version": "1.5.0",
       "_model_name": "HTMLModel",
       "_view_count": null,
       "_view_module": "@jupyter-widgets/controls",
       "_view_module_version": "1.5.0",
       "_view_name": "HTMLView",
       "description": "",
       "description_tooltip": null,
       "layout": "IPY_MODEL_0df9a0313bbf44d99dc90680763dd673",
       "placeholder": "​",
       "style": "IPY_MODEL_a63bac5d4b3b4647b7e033f0ad0e0371",
       "value": " 393M/393M [00:36&lt;00:00, 12.2MB/s]"
      }
     },
     "50f899d6c2004022a8527b4450d09ba0": {
      "model_module": "@jupyter-widgets/controls",
      "model_module_version": "1.5.0",
      "model_name": "ProgressStyleModel",
      "state": {
       "_model_module": "@jupyter-widgets/controls",
       "_model_module_version": "1.5.0",
       "_model_name": "ProgressStyleModel",
       "_view_count": null,
       "_view_module": "@jupyter-widgets/base",
       "_view_module_version": "1.2.0",
       "_view_name": "StyleView",
       "bar_color": null,
       "description_width": ""
      }
     },
     "54fa078b6e8847eba23ac33665f69342": {
      "model_module": "@jupyter-widgets/controls",
      "model_module_version": "1.5.0",
      "model_name": "HTMLModel",
      "state": {
       "_dom_classes": [],
       "_model_module": "@jupyter-widgets/controls",
       "_model_module_version": "1.5.0",
       "_model_name": "HTMLModel",
       "_view_count": null,
       "_view_module": "@jupyter-widgets/controls",
       "_view_module_version": "1.5.0",
       "_view_name": "HTMLView",
       "description": "",
       "description_tooltip": null,
       "layout": "IPY_MODEL_188a9efd3afc470aa73492f0240f953d",
       "placeholder": "​",
       "style": "IPY_MODEL_9378f0250e67480f91ffe13e6c76e8e2",
       "value": " 624/624 [00:00&lt;00:00, 22.8kB/s]"
      }
     },
     "6de5a842249b4c639cdb0693e87fe24b": {
      "model_module": "@jupyter-widgets/controls",
      "model_module_version": "1.5.0",
      "model_name": "DescriptionStyleModel",
      "state": {
       "_model_module": "@jupyter-widgets/controls",
       "_model_module_version": "1.5.0",
       "_model_name": "DescriptionStyleModel",
       "_view_count": null,
       "_view_module": "@jupyter-widgets/base",
       "_view_module_version": "1.2.0",
       "_view_name": "StyleView",
       "description_width": ""
      }
     },
     "74bbba72f37f4b68a6863eea5907b053": {
      "model_module": "@jupyter-widgets/controls",
      "model_module_version": "1.5.0",
      "model_name": "HBoxModel",
      "state": {
       "_dom_classes": [],
       "_model_module": "@jupyter-widgets/controls",
       "_model_module_version": "1.5.0",
       "_model_name": "HBoxModel",
       "_view_count": null,
       "_view_module": "@jupyter-widgets/controls",
       "_view_module_version": "1.5.0",
       "_view_name": "HBoxView",
       "box_style": "",
       "children": [
        "IPY_MODEL_d22d315bb9da4dc78c4839e46273f182",
        "IPY_MODEL_bf5cede41548445abb92fbb6102b7dc4",
        "IPY_MODEL_df5385d7dc4148e2989c00d88cc8bb77"
       ],
       "layout": "IPY_MODEL_2dc8533fe6a84d339f522cbd119f2866"
      }
     },
     "770306ce9b12401d8ac6d57a51ecfc2c": {
      "model_module": "@jupyter-widgets/controls",
      "model_module_version": "1.5.0",
      "model_name": "DescriptionStyleModel",
      "state": {
       "_model_module": "@jupyter-widgets/controls",
       "_model_module_version": "1.5.0",
       "_model_name": "DescriptionStyleModel",
       "_view_count": null,
       "_view_module": "@jupyter-widgets/base",
       "_view_module_version": "1.2.0",
       "_view_name": "StyleView",
       "description_width": ""
      }
     },
     "8b05bb25045847c59152caa7f7ecbde6": {
      "model_module": "@jupyter-widgets/controls",
      "model_module_version": "1.5.0",
      "model_name": "HBoxModel",
      "state": {
       "_dom_classes": [],
       "_model_module": "@jupyter-widgets/controls",
       "_model_module_version": "1.5.0",
       "_model_name": "HBoxModel",
       "_view_count": null,
       "_view_module": "@jupyter-widgets/controls",
       "_view_module_version": "1.5.0",
       "_view_name": "HBoxView",
       "box_style": "",
       "children": [
        "IPY_MODEL_cdce1efa54ed4ddbad819e4435f21b6a",
        "IPY_MODEL_48ec2bd4714a4b9e94d7896de922c206",
        "IPY_MODEL_54fa078b6e8847eba23ac33665f69342"
       ],
       "layout": "IPY_MODEL_484884c45fe247a2a67a5e56b7c2d598"
      }
     },
     "9378f0250e67480f91ffe13e6c76e8e2": {
      "model_module": "@jupyter-widgets/controls",
      "model_module_version": "1.5.0",
      "model_name": "DescriptionStyleModel",
      "state": {
       "_model_module": "@jupyter-widgets/controls",
       "_model_module_version": "1.5.0",
       "_model_name": "DescriptionStyleModel",
       "_view_count": null,
       "_view_module": "@jupyter-widgets/base",
       "_view_module_version": "1.2.0",
       "_view_name": "StyleView",
       "description_width": ""
      }
     },
     "9442930737ac4e3da10a77c190410f2e": {
      "model_module": "@jupyter-widgets/controls",
      "model_module_version": "1.5.0",
      "model_name": "DescriptionStyleModel",
      "state": {
       "_model_module": "@jupyter-widgets/controls",
       "_model_module_version": "1.5.0",
       "_model_name": "DescriptionStyleModel",
       "_view_count": null,
       "_view_module": "@jupyter-widgets/base",
       "_view_module_version": "1.2.0",
       "_view_name": "StyleView",
       "description_width": ""
      }
     },
     "9d448bb668254bab90a981b46b4168ca": {
      "model_module": "@jupyter-widgets/controls",
      "model_module_version": "1.5.0",
      "model_name": "HTMLModel",
      "state": {
       "_dom_classes": [],
       "_model_module": "@jupyter-widgets/controls",
       "_model_module_version": "1.5.0",
       "_model_name": "HTMLModel",
       "_view_count": null,
       "_view_module": "@jupyter-widgets/controls",
       "_view_module_version": "1.5.0",
       "_view_name": "HTMLView",
       "description": "",
       "description_tooltip": null,
       "layout": "IPY_MODEL_ae0ef04c455d4a0fa65f1d7406590ff1",
       "placeholder": "​",
       "style": "IPY_MODEL_9442930737ac4e3da10a77c190410f2e",
       "value": "Downloading: 100%"
      }
     },
     "a3b1758204194bd6a3905e47efb93b5e": {
      "model_module": "@jupyter-widgets/controls",
      "model_module_version": "1.5.0",
      "model_name": "DescriptionStyleModel",
      "state": {
       "_model_module": "@jupyter-widgets/controls",
       "_model_module_version": "1.5.0",
       "_model_name": "DescriptionStyleModel",
       "_view_count": null,
       "_view_module": "@jupyter-widgets/base",
       "_view_module_version": "1.2.0",
       "_view_name": "StyleView",
       "description_width": ""
      }
     },
     "a4ee32e142b14a0ab34d98d59e403587": {
      "model_module": "@jupyter-widgets/controls",
      "model_module_version": "1.5.0",
      "model_name": "FloatProgressModel",
      "state": {
       "_dom_classes": [],
       "_model_module": "@jupyter-widgets/controls",
       "_model_module_version": "1.5.0",
       "_model_name": "FloatProgressModel",
       "_view_count": null,
       "_view_module": "@jupyter-widgets/controls",
       "_view_module_version": "1.5.0",
       "_view_name": "ProgressView",
       "bar_style": "success",
       "description": "",
       "description_tooltip": null,
       "layout": "IPY_MODEL_b4f62e20aeae46808aef18016d52ba41",
       "max": 411577189.0,
       "min": 0.0,
       "orientation": "horizontal",
       "style": "IPY_MODEL_1262f0cd2b1f4c7eb2f29ea6caad229a",
       "value": 411577189.0
      }
     },
     "a63bac5d4b3b4647b7e033f0ad0e0371": {
      "model_module": "@jupyter-widgets/controls",
      "model_module_version": "1.5.0",
      "model_name": "DescriptionStyleModel",
      "state": {
       "_model_module": "@jupyter-widgets/controls",
       "_model_module_version": "1.5.0",
       "_model_name": "DescriptionStyleModel",
       "_view_count": null,
       "_view_module": "@jupyter-widgets/base",
       "_view_module_version": "1.2.0",
       "_view_name": "StyleView",
       "description_width": ""
      }
     },
     "ae0ef04c455d4a0fa65f1d7406590ff1": {
      "model_module": "@jupyter-widgets/base",
      "model_module_version": "1.2.0",
      "model_name": "LayoutModel",
      "state": {
       "_model_module": "@jupyter-widgets/base",
       "_model_module_version": "1.2.0",
       "_model_name": "LayoutModel",
       "_view_count": null,
       "_view_module": "@jupyter-widgets/base",
       "_view_module_version": "1.2.0",
       "_view_name": "LayoutView",
       "align_content": null,
       "align_items": null,
       "align_self": null,
       "border": null,
       "bottom": null,
       "display": null,
       "flex": null,
       "flex_flow": null,
       "grid_area": null,
       "grid_auto_columns": null,
       "grid_auto_flow": null,
       "grid_auto_rows": null,
       "grid_column": null,
       "grid_gap": null,
       "grid_row": null,
       "grid_template_areas": null,
       "grid_template_columns": null,
       "grid_template_rows": null,
       "height": null,
       "justify_content": null,
       "justify_items": null,
       "left": null,
       "margin": null,
       "max_height": null,
       "max_width": null,
       "min_height": null,
       "min_width": null,
       "object_fit": null,
       "object_position": null,
       "order": null,
       "overflow": null,
       "overflow_x": null,
       "overflow_y": null,
       "padding": null,
       "right": null,
       "top": null,
       "visibility": null,
       "width": null
      }
     },
     "b11490b98675460eb486f631f388f33c": {
      "model_module": "@jupyter-widgets/controls",
      "model_module_version": "1.5.0",
      "model_name": "DescriptionStyleModel",
      "state": {
       "_model_module": "@jupyter-widgets/controls",
       "_model_module_version": "1.5.0",
       "_model_name": "DescriptionStyleModel",
       "_view_count": null,
       "_view_module": "@jupyter-widgets/base",
       "_view_module_version": "1.2.0",
       "_view_name": "StyleView",
       "description_width": ""
      }
     },
     "b4dac663309f41a8b66c3631d4a65df5": {
      "model_module": "@jupyter-widgets/controls",
      "model_module_version": "1.5.0",
      "model_name": "DescriptionStyleModel",
      "state": {
       "_model_module": "@jupyter-widgets/controls",
       "_model_module_version": "1.5.0",
       "_model_name": "DescriptionStyleModel",
       "_view_count": null,
       "_view_module": "@jupyter-widgets/base",
       "_view_module_version": "1.2.0",
       "_view_name": "StyleView",
       "description_width": ""
      }
     },
     "b4f62e20aeae46808aef18016d52ba41": {
      "model_module": "@jupyter-widgets/base",
      "model_module_version": "1.2.0",
      "model_name": "LayoutModel",
      "state": {
       "_model_module": "@jupyter-widgets/base",
       "_model_module_version": "1.2.0",
       "_model_name": "LayoutModel",
       "_view_count": null,
       "_view_module": "@jupyter-widgets/base",
       "_view_module_version": "1.2.0",
       "_view_name": "LayoutView",
       "align_content": null,
       "align_items": null,
       "align_self": null,
       "border": null,
       "bottom": null,
       "display": null,
       "flex": null,
       "flex_flow": null,
       "grid_area": null,
       "grid_auto_columns": null,
       "grid_auto_flow": null,
       "grid_auto_rows": null,
       "grid_column": null,
       "grid_gap": null,
       "grid_row": null,
       "grid_template_areas": null,
       "grid_template_columns": null,
       "grid_template_rows": null,
       "height": null,
       "justify_content": null,
       "justify_items": null,
       "left": null,
       "margin": null,
       "max_height": null,
       "max_width": null,
       "min_height": null,
       "min_width": null,
       "object_fit": null,
       "object_position": null,
       "order": null,
       "overflow": null,
       "overflow_x": null,
       "overflow_y": null,
       "padding": null,
       "right": null,
       "top": null,
       "visibility": null,
       "width": null
      }
     },
     "be4979ed587446519e8e8af31d8038ca": {
      "model_module": "@jupyter-widgets/base",
      "model_module_version": "1.2.0",
      "model_name": "LayoutModel",
      "state": {
       "_model_module": "@jupyter-widgets/base",
       "_model_module_version": "1.2.0",
       "_model_name": "LayoutModel",
       "_view_count": null,
       "_view_module": "@jupyter-widgets/base",
       "_view_module_version": "1.2.0",
       "_view_name": "LayoutView",
       "align_content": null,
       "align_items": null,
       "align_self": null,
       "border": null,
       "bottom": null,
       "display": null,
       "flex": null,
       "flex_flow": null,
       "grid_area": null,
       "grid_auto_columns": null,
       "grid_auto_flow": null,
       "grid_auto_rows": null,
       "grid_column": null,
       "grid_gap": null,
       "grid_row": null,
       "grid_template_areas": null,
       "grid_template_columns": null,
       "grid_template_rows": null,
       "height": null,
       "justify_content": null,
       "justify_items": null,
       "left": null,
       "margin": null,
       "max_height": null,
       "max_width": null,
       "min_height": null,
       "min_width": null,
       "object_fit": null,
       "object_position": null,
       "order": null,
       "overflow": null,
       "overflow_x": null,
       "overflow_y": null,
       "padding": null,
       "right": null,
       "top": null,
       "visibility": null,
       "width": null
      }
     },
     "bf5cede41548445abb92fbb6102b7dc4": {
      "model_module": "@jupyter-widgets/controls",
      "model_module_version": "1.5.0",
      "model_name": "FloatProgressModel",
      "state": {
       "_dom_classes": [],
       "_model_module": "@jupyter-widgets/controls",
       "_model_module_version": "1.5.0",
       "_model_name": "FloatProgressModel",
       "_view_count": null,
       "_view_module": "@jupyter-widgets/controls",
       "_view_module_version": "1.5.0",
       "_view_name": "ProgressView",
       "bar_style": "success",
       "description": "",
       "description_tooltip": null,
       "layout": "IPY_MODEL_d6a0fc8ed43f481a9fcbdc96457b293a",
       "max": 29.0,
       "min": 0.0,
       "orientation": "horizontal",
       "style": "IPY_MODEL_1251ac4767a440d8bbb4a27ed5666ad0",
       "value": 29.0
      }
     },
     "cdce1efa54ed4ddbad819e4435f21b6a": {
      "model_module": "@jupyter-widgets/controls",
      "model_module_version": "1.5.0",
      "model_name": "HTMLModel",
      "state": {
       "_dom_classes": [],
       "_model_module": "@jupyter-widgets/controls",
       "_model_module_version": "1.5.0",
       "_model_name": "HTMLModel",
       "_view_count": null,
       "_view_module": "@jupyter-widgets/controls",
       "_view_module_version": "1.5.0",
       "_view_name": "HTMLView",
       "description": "",
       "description_tooltip": null,
       "layout": "IPY_MODEL_ebb424053d1f4a99b7d8e47071643796",
       "placeholder": "​",
       "style": "IPY_MODEL_a3b1758204194bd6a3905e47efb93b5e",
       "value": "Downloading: 100%"
      }
     },
     "d19833d4ce4347ec852fd8fd83376120": {
      "model_module": "@jupyter-widgets/controls",
      "model_module_version": "1.5.0",
      "model_name": "ProgressStyleModel",
      "state": {
       "_model_module": "@jupyter-widgets/controls",
       "_model_module_version": "1.5.0",
       "_model_name": "ProgressStyleModel",
       "_view_count": null,
       "_view_module": "@jupyter-widgets/base",
       "_view_module_version": "1.2.0",
       "_view_name": "StyleView",
       "bar_color": null,
       "description_width": ""
      }
     },
     "d22d315bb9da4dc78c4839e46273f182": {
      "model_module": "@jupyter-widgets/controls",
      "model_module_version": "1.5.0",
      "model_name": "HTMLModel",
      "state": {
       "_dom_classes": [],
       "_model_module": "@jupyter-widgets/controls",
       "_model_module_version": "1.5.0",
       "_model_name": "HTMLModel",
       "_view_count": null,
       "_view_module": "@jupyter-widgets/controls",
       "_view_module_version": "1.5.0",
       "_view_name": "HTMLView",
       "description": "",
       "description_tooltip": null,
       "layout": "IPY_MODEL_f0a7398fe6354c77a38354e13be65dd6",
       "placeholder": "​",
       "style": "IPY_MODEL_b4dac663309f41a8b66c3631d4a65df5",
       "value": "Downloading: 100%"
      }
     },
     "d3767b42b676466dafd918df33d0ffae": {
      "model_module": "@jupyter-widgets/controls",
      "model_module_version": "1.5.0",
      "model_name": "HBoxModel",
      "state": {
       "_dom_classes": [],
       "_model_module": "@jupyter-widgets/controls",
       "_model_module_version": "1.5.0",
       "_model_name": "HBoxModel",
       "_view_count": null,
       "_view_module": "@jupyter-widgets/controls",
       "_view_module_version": "1.5.0",
       "_view_name": "HBoxView",
       "box_style": "",
       "children": [
        "IPY_MODEL_f041e47e6aa44efcbb2a435ffd21d63f",
        "IPY_MODEL_0723316da83d4d46a1e31da65abc17f2",
        "IPY_MODEL_dd70303a6c3e4ce3aa357e3991bead2f"
       ],
       "layout": "IPY_MODEL_be4979ed587446519e8e8af31d8038ca"
      }
     },
     "d6a0fc8ed43f481a9fcbdc96457b293a": {
      "model_module": "@jupyter-widgets/base",
      "model_module_version": "1.2.0",
      "model_name": "LayoutModel",
      "state": {
       "_model_module": "@jupyter-widgets/base",
       "_model_module_version": "1.2.0",
       "_model_name": "LayoutModel",
       "_view_count": null,
       "_view_module": "@jupyter-widgets/base",
       "_view_module_version": "1.2.0",
       "_view_name": "LayoutView",
       "align_content": null,
       "align_items": null,
       "align_self": null,
       "border": null,
       "bottom": null,
       "display": null,
       "flex": null,
       "flex_flow": null,
       "grid_area": null,
       "grid_auto_columns": null,
       "grid_auto_flow": null,
       "grid_auto_rows": null,
       "grid_column": null,
       "grid_gap": null,
       "grid_row": null,
       "grid_template_areas": null,
       "grid_template_columns": null,
       "grid_template_rows": null,
       "height": null,
       "justify_content": null,
       "justify_items": null,
       "left": null,
       "margin": null,
       "max_height": null,
       "max_width": null,
       "min_height": null,
       "min_width": null,
       "object_fit": null,
       "object_position": null,
       "order": null,
       "overflow": null,
       "overflow_x": null,
       "overflow_y": null,
       "padding": null,
       "right": null,
       "top": null,
       "visibility": null,
       "width": null
      }
     },
     "dd70303a6c3e4ce3aa357e3991bead2f": {
      "model_module": "@jupyter-widgets/controls",
      "model_module_version": "1.5.0",
      "model_name": "HTMLModel",
      "state": {
       "_dom_classes": [],
       "_model_module": "@jupyter-widgets/controls",
       "_model_module_version": "1.5.0",
       "_model_name": "HTMLModel",
       "_view_count": null,
       "_view_module": "@jupyter-widgets/controls",
       "_view_module_version": "1.5.0",
       "_view_name": "HTMLView",
       "description": "",
       "description_tooltip": null,
       "layout": "IPY_MODEL_461b50924f3d4a45989a55151c432653",
       "placeholder": "​",
       "style": "IPY_MODEL_770306ce9b12401d8ac6d57a51ecfc2c",
       "value": " 107k/107k [00:00&lt;00:00, 164kB/s]"
      }
     },
     "df5385d7dc4148e2989c00d88cc8bb77": {
      "model_module": "@jupyter-widgets/controls",
      "model_module_version": "1.5.0",
      "model_name": "HTMLModel",
      "state": {
       "_dom_classes": [],
       "_model_module": "@jupyter-widgets/controls",
       "_model_module_version": "1.5.0",
       "_model_name": "HTMLModel",
       "_view_count": null,
       "_view_module": "@jupyter-widgets/controls",
       "_view_module_version": "1.5.0",
       "_view_name": "HTMLView",
       "description": "",
       "description_tooltip": null,
       "layout": "IPY_MODEL_f2d2475c55964239b7f06b947ef90a62",
       "placeholder": "​",
       "style": "IPY_MODEL_b11490b98675460eb486f631f388f33c",
       "value": " 29.0/29.0 [00:00&lt;00:00, 1.10kB/s]"
      }
     },
     "e304a09295de4972a7ee6cd8db463575": {
      "model_module": "@jupyter-widgets/base",
      "model_module_version": "1.2.0",
      "model_name": "LayoutModel",
      "state": {
       "_model_module": "@jupyter-widgets/base",
       "_model_module_version": "1.2.0",
       "_model_name": "LayoutModel",
       "_view_count": null,
       "_view_module": "@jupyter-widgets/base",
       "_view_module_version": "1.2.0",
       "_view_name": "LayoutView",
       "align_content": null,
       "align_items": null,
       "align_self": null,
       "border": null,
       "bottom": null,
       "display": null,
       "flex": null,
       "flex_flow": null,
       "grid_area": null,
       "grid_auto_columns": null,
       "grid_auto_flow": null,
       "grid_auto_rows": null,
       "grid_column": null,
       "grid_gap": null,
       "grid_row": null,
       "grid_template_areas": null,
       "grid_template_columns": null,
       "grid_template_rows": null,
       "height": null,
       "justify_content": null,
       "justify_items": null,
       "left": null,
       "margin": null,
       "max_height": null,
       "max_width": null,
       "min_height": null,
       "min_width": null,
       "object_fit": null,
       "object_position": null,
       "order": null,
       "overflow": null,
       "overflow_x": null,
       "overflow_y": null,
       "padding": null,
       "right": null,
       "top": null,
       "visibility": null,
       "width": null
      }
     },
     "ebb424053d1f4a99b7d8e47071643796": {
      "model_module": "@jupyter-widgets/base",
      "model_module_version": "1.2.0",
      "model_name": "LayoutModel",
      "state": {
       "_model_module": "@jupyter-widgets/base",
       "_model_module_version": "1.2.0",
       "_model_name": "LayoutModel",
       "_view_count": null,
       "_view_module": "@jupyter-widgets/base",
       "_view_module_version": "1.2.0",
       "_view_name": "LayoutView",
       "align_content": null,
       "align_items": null,
       "align_self": null,
       "border": null,
       "bottom": null,
       "display": null,
       "flex": null,
       "flex_flow": null,
       "grid_area": null,
       "grid_auto_columns": null,
       "grid_auto_flow": null,
       "grid_auto_rows": null,
       "grid_column": null,
       "grid_gap": null,
       "grid_row": null,
       "grid_template_areas": null,
       "grid_template_columns": null,
       "grid_template_rows": null,
       "height": null,
       "justify_content": null,
       "justify_items": null,
       "left": null,
       "margin": null,
       "max_height": null,
       "max_width": null,
       "min_height": null,
       "min_width": null,
       "object_fit": null,
       "object_position": null,
       "order": null,
       "overflow": null,
       "overflow_x": null,
       "overflow_y": null,
       "padding": null,
       "right": null,
       "top": null,
       "visibility": null,
       "width": null
      }
     },
     "f041e47e6aa44efcbb2a435ffd21d63f": {
      "model_module": "@jupyter-widgets/controls",
      "model_module_version": "1.5.0",
      "model_name": "HTMLModel",
      "state": {
       "_dom_classes": [],
       "_model_module": "@jupyter-widgets/controls",
       "_model_module_version": "1.5.0",
       "_model_name": "HTMLModel",
       "_view_count": null,
       "_view_module": "@jupyter-widgets/controls",
       "_view_module_version": "1.5.0",
       "_view_name": "HTMLView",
       "description": "",
       "description_tooltip": null,
       "layout": "IPY_MODEL_e304a09295de4972a7ee6cd8db463575",
       "placeholder": "​",
       "style": "IPY_MODEL_6de5a842249b4c639cdb0693e87fe24b",
       "value": "Downloading: 100%"
      }
     },
     "f0a7398fe6354c77a38354e13be65dd6": {
      "model_module": "@jupyter-widgets/base",
      "model_module_version": "1.2.0",
      "model_name": "LayoutModel",
      "state": {
       "_model_module": "@jupyter-widgets/base",
       "_model_module_version": "1.2.0",
       "_model_name": "LayoutModel",
       "_view_count": null,
       "_view_module": "@jupyter-widgets/base",
       "_view_module_version": "1.2.0",
       "_view_name": "LayoutView",
       "align_content": null,
       "align_items": null,
       "align_self": null,
       "border": null,
       "bottom": null,
       "display": null,
       "flex": null,
       "flex_flow": null,
       "grid_area": null,
       "grid_auto_columns": null,
       "grid_auto_flow": null,
       "grid_auto_rows": null,
       "grid_column": null,
       "grid_gap": null,
       "grid_row": null,
       "grid_template_areas": null,
       "grid_template_columns": null,
       "grid_template_rows": null,
       "height": null,
       "justify_content": null,
       "justify_items": null,
       "left": null,
       "margin": null,
       "max_height": null,
       "max_width": null,
       "min_height": null,
       "min_width": null,
       "object_fit": null,
       "object_position": null,
       "order": null,
       "overflow": null,
       "overflow_x": null,
       "overflow_y": null,
       "padding": null,
       "right": null,
       "top": null,
       "visibility": null,
       "width": null
      }
     },
     "f2d2475c55964239b7f06b947ef90a62": {
      "model_module": "@jupyter-widgets/base",
      "model_module_version": "1.2.0",
      "model_name": "LayoutModel",
      "state": {
       "_model_module": "@jupyter-widgets/base",
       "_model_module_version": "1.2.0",
       "_model_name": "LayoutModel",
       "_view_count": null,
       "_view_module": "@jupyter-widgets/base",
       "_view_module_version": "1.2.0",
       "_view_name": "LayoutView",
       "align_content": null,
       "align_items": null,
       "align_self": null,
       "border": null,
       "bottom": null,
       "display": null,
       "flex": null,
       "flex_flow": null,
       "grid_area": null,
       "grid_auto_columns": null,
       "grid_auto_flow": null,
       "grid_auto_rows": null,
       "grid_column": null,
       "grid_gap": null,
       "grid_row": null,
       "grid_template_areas": null,
       "grid_template_columns": null,
       "grid_template_rows": null,
       "height": null,
       "justify_content": null,
       "justify_items": null,
       "left": null,
       "margin": null,
       "max_height": null,
       "max_width": null,
       "min_height": null,
       "min_width": null,
       "object_fit": null,
       "object_position": null,
       "order": null,
       "overflow": null,
       "overflow_x": null,
       "overflow_y": null,
       "padding": null,
       "right": null,
       "top": null,
       "visibility": null,
       "width": null
      }
     },
     "f6c822c39f8f43b589ad125dd9e6182c": {
      "model_module": "@jupyter-widgets/controls",
      "model_module_version": "1.5.0",
      "model_name": "HBoxModel",
      "state": {
       "_dom_classes": [],
       "_model_module": "@jupyter-widgets/controls",
       "_model_module_version": "1.5.0",
       "_model_name": "HBoxModel",
       "_view_count": null,
       "_view_module": "@jupyter-widgets/controls",
       "_view_module_version": "1.5.0",
       "_view_name": "HBoxView",
       "box_style": "",
       "children": [
        "IPY_MODEL_9d448bb668254bab90a981b46b4168ca",
        "IPY_MODEL_a4ee32e142b14a0ab34d98d59e403587",
        "IPY_MODEL_504f346a789e491787543435da71ba9c"
       ],
       "layout": "IPY_MODEL_15080a3079034f35b792126cef5c0600"
      }
     }
    },
    "version_major": 2,
    "version_minor": 0
   }
  }
 },
 "nbformat": 4,
 "nbformat_minor": 5
}
